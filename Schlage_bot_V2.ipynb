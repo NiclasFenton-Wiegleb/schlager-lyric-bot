{
  "nbformat": 4,
  "nbformat_minor": 0,
  "metadata": {
    "colab": {
      "provenance": [],
      "machine_shape": "hm",
      "gpuType": "V100",
      "mount_file_id": "1rWgQ-B5psX3GWjT4zCguhgKdOZtk19nb",
      "authorship_tag": "ABX9TyMzZcO7WaPVFcvkUR2vsmTZ",
      "include_colab_link": true
    },
    "kernelspec": {
      "name": "python3",
      "display_name": "Python 3"
    },
    "language_info": {
      "name": "python"
    },
    "accelerator": "GPU",
    "widgets": {
      "application/vnd.jupyter.widget-state+json": {
        "9b7dcfc678114563a2e9e9d7ea479d2c": {
          "model_module": "@jupyter-widgets/controls",
          "model_name": "HBoxModel",
          "model_module_version": "1.5.0",
          "state": {
            "_dom_classes": [],
            "_model_module": "@jupyter-widgets/controls",
            "_model_module_version": "1.5.0",
            "_model_name": "HBoxModel",
            "_view_count": null,
            "_view_module": "@jupyter-widgets/controls",
            "_view_module_version": "1.5.0",
            "_view_name": "HBoxView",
            "box_style": "",
            "children": [
              "IPY_MODEL_99c68ec627ac4cc9b50c74cd3e3265ec",
              "IPY_MODEL_df3db5206cab4120ac8662625c240e4d",
              "IPY_MODEL_6c70e99b6541476bb65e853b08916566"
            ],
            "layout": "IPY_MODEL_8f1f693e78584439bfe472039429eccd"
          }
        },
        "99c68ec627ac4cc9b50c74cd3e3265ec": {
          "model_module": "@jupyter-widgets/controls",
          "model_name": "HTMLModel",
          "model_module_version": "1.5.0",
          "state": {
            "_dom_classes": [],
            "_model_module": "@jupyter-widgets/controls",
            "_model_module_version": "1.5.0",
            "_model_name": "HTMLModel",
            "_view_count": null,
            "_view_module": "@jupyter-widgets/controls",
            "_view_module_version": "1.5.0",
            "_view_name": "HTMLView",
            "description": "",
            "description_tooltip": null,
            "layout": "IPY_MODEL_c9767813dfdb43dcbaf679ce04530074",
            "placeholder": "​",
            "style": "IPY_MODEL_4525cb81801545b5a99cb56cd954de36",
            "value": "Running tokenizer on dataset: 100%"
          }
        },
        "df3db5206cab4120ac8662625c240e4d": {
          "model_module": "@jupyter-widgets/controls",
          "model_name": "FloatProgressModel",
          "model_module_version": "1.5.0",
          "state": {
            "_dom_classes": [],
            "_model_module": "@jupyter-widgets/controls",
            "_model_module_version": "1.5.0",
            "_model_name": "FloatProgressModel",
            "_view_count": null,
            "_view_module": "@jupyter-widgets/controls",
            "_view_module_version": "1.5.0",
            "_view_name": "ProgressView",
            "bar_style": "success",
            "description": "",
            "description_tooltip": null,
            "layout": "IPY_MODEL_7b710d3f69a54fcb8c3aee396082d5ed",
            "max": 946,
            "min": 0,
            "orientation": "horizontal",
            "style": "IPY_MODEL_24eef1afda864995b758570193ade775",
            "value": 946
          }
        },
        "6c70e99b6541476bb65e853b08916566": {
          "model_module": "@jupyter-widgets/controls",
          "model_name": "HTMLModel",
          "model_module_version": "1.5.0",
          "state": {
            "_dom_classes": [],
            "_model_module": "@jupyter-widgets/controls",
            "_model_module_version": "1.5.0",
            "_model_name": "HTMLModel",
            "_view_count": null,
            "_view_module": "@jupyter-widgets/controls",
            "_view_module_version": "1.5.0",
            "_view_name": "HTMLView",
            "description": "",
            "description_tooltip": null,
            "layout": "IPY_MODEL_0cea847f46774897905cf2997025ae2c",
            "placeholder": "​",
            "style": "IPY_MODEL_153626efbd1e4467afcd331ded6188d5",
            "value": " 946/946 [00:00&lt;00:00, 1921.79 examples/s]"
          }
        },
        "8f1f693e78584439bfe472039429eccd": {
          "model_module": "@jupyter-widgets/base",
          "model_name": "LayoutModel",
          "model_module_version": "1.2.0",
          "state": {
            "_model_module": "@jupyter-widgets/base",
            "_model_module_version": "1.2.0",
            "_model_name": "LayoutModel",
            "_view_count": null,
            "_view_module": "@jupyter-widgets/base",
            "_view_module_version": "1.2.0",
            "_view_name": "LayoutView",
            "align_content": null,
            "align_items": null,
            "align_self": null,
            "border": null,
            "bottom": null,
            "display": null,
            "flex": null,
            "flex_flow": null,
            "grid_area": null,
            "grid_auto_columns": null,
            "grid_auto_flow": null,
            "grid_auto_rows": null,
            "grid_column": null,
            "grid_gap": null,
            "grid_row": null,
            "grid_template_areas": null,
            "grid_template_columns": null,
            "grid_template_rows": null,
            "height": null,
            "justify_content": null,
            "justify_items": null,
            "left": null,
            "margin": null,
            "max_height": null,
            "max_width": null,
            "min_height": null,
            "min_width": null,
            "object_fit": null,
            "object_position": null,
            "order": null,
            "overflow": null,
            "overflow_x": null,
            "overflow_y": null,
            "padding": null,
            "right": null,
            "top": null,
            "visibility": null,
            "width": null
          }
        },
        "c9767813dfdb43dcbaf679ce04530074": {
          "model_module": "@jupyter-widgets/base",
          "model_name": "LayoutModel",
          "model_module_version": "1.2.0",
          "state": {
            "_model_module": "@jupyter-widgets/base",
            "_model_module_version": "1.2.0",
            "_model_name": "LayoutModel",
            "_view_count": null,
            "_view_module": "@jupyter-widgets/base",
            "_view_module_version": "1.2.0",
            "_view_name": "LayoutView",
            "align_content": null,
            "align_items": null,
            "align_self": null,
            "border": null,
            "bottom": null,
            "display": null,
            "flex": null,
            "flex_flow": null,
            "grid_area": null,
            "grid_auto_columns": null,
            "grid_auto_flow": null,
            "grid_auto_rows": null,
            "grid_column": null,
            "grid_gap": null,
            "grid_row": null,
            "grid_template_areas": null,
            "grid_template_columns": null,
            "grid_template_rows": null,
            "height": null,
            "justify_content": null,
            "justify_items": null,
            "left": null,
            "margin": null,
            "max_height": null,
            "max_width": null,
            "min_height": null,
            "min_width": null,
            "object_fit": null,
            "object_position": null,
            "order": null,
            "overflow": null,
            "overflow_x": null,
            "overflow_y": null,
            "padding": null,
            "right": null,
            "top": null,
            "visibility": null,
            "width": null
          }
        },
        "4525cb81801545b5a99cb56cd954de36": {
          "model_module": "@jupyter-widgets/controls",
          "model_name": "DescriptionStyleModel",
          "model_module_version": "1.5.0",
          "state": {
            "_model_module": "@jupyter-widgets/controls",
            "_model_module_version": "1.5.0",
            "_model_name": "DescriptionStyleModel",
            "_view_count": null,
            "_view_module": "@jupyter-widgets/base",
            "_view_module_version": "1.2.0",
            "_view_name": "StyleView",
            "description_width": ""
          }
        },
        "7b710d3f69a54fcb8c3aee396082d5ed": {
          "model_module": "@jupyter-widgets/base",
          "model_name": "LayoutModel",
          "model_module_version": "1.2.0",
          "state": {
            "_model_module": "@jupyter-widgets/base",
            "_model_module_version": "1.2.0",
            "_model_name": "LayoutModel",
            "_view_count": null,
            "_view_module": "@jupyter-widgets/base",
            "_view_module_version": "1.2.0",
            "_view_name": "LayoutView",
            "align_content": null,
            "align_items": null,
            "align_self": null,
            "border": null,
            "bottom": null,
            "display": null,
            "flex": null,
            "flex_flow": null,
            "grid_area": null,
            "grid_auto_columns": null,
            "grid_auto_flow": null,
            "grid_auto_rows": null,
            "grid_column": null,
            "grid_gap": null,
            "grid_row": null,
            "grid_template_areas": null,
            "grid_template_columns": null,
            "grid_template_rows": null,
            "height": null,
            "justify_content": null,
            "justify_items": null,
            "left": null,
            "margin": null,
            "max_height": null,
            "max_width": null,
            "min_height": null,
            "min_width": null,
            "object_fit": null,
            "object_position": null,
            "order": null,
            "overflow": null,
            "overflow_x": null,
            "overflow_y": null,
            "padding": null,
            "right": null,
            "top": null,
            "visibility": null,
            "width": null
          }
        },
        "24eef1afda864995b758570193ade775": {
          "model_module": "@jupyter-widgets/controls",
          "model_name": "ProgressStyleModel",
          "model_module_version": "1.5.0",
          "state": {
            "_model_module": "@jupyter-widgets/controls",
            "_model_module_version": "1.5.0",
            "_model_name": "ProgressStyleModel",
            "_view_count": null,
            "_view_module": "@jupyter-widgets/base",
            "_view_module_version": "1.2.0",
            "_view_name": "StyleView",
            "bar_color": null,
            "description_width": ""
          }
        },
        "0cea847f46774897905cf2997025ae2c": {
          "model_module": "@jupyter-widgets/base",
          "model_name": "LayoutModel",
          "model_module_version": "1.2.0",
          "state": {
            "_model_module": "@jupyter-widgets/base",
            "_model_module_version": "1.2.0",
            "_model_name": "LayoutModel",
            "_view_count": null,
            "_view_module": "@jupyter-widgets/base",
            "_view_module_version": "1.2.0",
            "_view_name": "LayoutView",
            "align_content": null,
            "align_items": null,
            "align_self": null,
            "border": null,
            "bottom": null,
            "display": null,
            "flex": null,
            "flex_flow": null,
            "grid_area": null,
            "grid_auto_columns": null,
            "grid_auto_flow": null,
            "grid_auto_rows": null,
            "grid_column": null,
            "grid_gap": null,
            "grid_row": null,
            "grid_template_areas": null,
            "grid_template_columns": null,
            "grid_template_rows": null,
            "height": null,
            "justify_content": null,
            "justify_items": null,
            "left": null,
            "margin": null,
            "max_height": null,
            "max_width": null,
            "min_height": null,
            "min_width": null,
            "object_fit": null,
            "object_position": null,
            "order": null,
            "overflow": null,
            "overflow_x": null,
            "overflow_y": null,
            "padding": null,
            "right": null,
            "top": null,
            "visibility": null,
            "width": null
          }
        },
        "153626efbd1e4467afcd331ded6188d5": {
          "model_module": "@jupyter-widgets/controls",
          "model_name": "DescriptionStyleModel",
          "model_module_version": "1.5.0",
          "state": {
            "_model_module": "@jupyter-widgets/controls",
            "_model_module_version": "1.5.0",
            "_model_name": "DescriptionStyleModel",
            "_view_count": null,
            "_view_module": "@jupyter-widgets/base",
            "_view_module_version": "1.2.0",
            "_view_name": "StyleView",
            "description_width": ""
          }
        },
        "704fa8e8236c4b85acba258a5a015f21": {
          "model_module": "@jupyter-widgets/controls",
          "model_name": "HBoxModel",
          "model_module_version": "1.5.0",
          "state": {
            "_dom_classes": [],
            "_model_module": "@jupyter-widgets/controls",
            "_model_module_version": "1.5.0",
            "_model_name": "HBoxModel",
            "_view_count": null,
            "_view_module": "@jupyter-widgets/controls",
            "_view_module_version": "1.5.0",
            "_view_name": "HBoxView",
            "box_style": "",
            "children": [
              "IPY_MODEL_ad4895452f9b4719b0f975e4a4dc171d",
              "IPY_MODEL_372fcd4a32d141e8a012fb18139660e2",
              "IPY_MODEL_12782cd1e78c4debbb2795ce75a1ad6b"
            ],
            "layout": "IPY_MODEL_290c07912584404baabcaae002434a51"
          }
        },
        "ad4895452f9b4719b0f975e4a4dc171d": {
          "model_module": "@jupyter-widgets/controls",
          "model_name": "HTMLModel",
          "model_module_version": "1.5.0",
          "state": {
            "_dom_classes": [],
            "_model_module": "@jupyter-widgets/controls",
            "_model_module_version": "1.5.0",
            "_model_name": "HTMLModel",
            "_view_count": null,
            "_view_module": "@jupyter-widgets/controls",
            "_view_module_version": "1.5.0",
            "_view_name": "HTMLView",
            "description": "",
            "description_tooltip": null,
            "layout": "IPY_MODEL_1deff9d4b21042db9d6087dc42f133ec",
            "placeholder": "​",
            "style": "IPY_MODEL_7654fa24137f4ffd9e03ffa0a0230f5d",
            "value": "Running tokenizer on dataset: 100%"
          }
        },
        "372fcd4a32d141e8a012fb18139660e2": {
          "model_module": "@jupyter-widgets/controls",
          "model_name": "FloatProgressModel",
          "model_module_version": "1.5.0",
          "state": {
            "_dom_classes": [],
            "_model_module": "@jupyter-widgets/controls",
            "_model_module_version": "1.5.0",
            "_model_name": "FloatProgressModel",
            "_view_count": null,
            "_view_module": "@jupyter-widgets/controls",
            "_view_module_version": "1.5.0",
            "_view_name": "ProgressView",
            "bar_style": "success",
            "description": "",
            "description_tooltip": null,
            "layout": "IPY_MODEL_1f4765640837421696d479e62dc66ddc",
            "max": 99,
            "min": 0,
            "orientation": "horizontal",
            "style": "IPY_MODEL_8119ef4304a24a60b1effc1d01b08650",
            "value": 99
          }
        },
        "12782cd1e78c4debbb2795ce75a1ad6b": {
          "model_module": "@jupyter-widgets/controls",
          "model_name": "HTMLModel",
          "model_module_version": "1.5.0",
          "state": {
            "_dom_classes": [],
            "_model_module": "@jupyter-widgets/controls",
            "_model_module_version": "1.5.0",
            "_model_name": "HTMLModel",
            "_view_count": null,
            "_view_module": "@jupyter-widgets/controls",
            "_view_module_version": "1.5.0",
            "_view_name": "HTMLView",
            "description": "",
            "description_tooltip": null,
            "layout": "IPY_MODEL_373061455d84462e836fad076d257206",
            "placeholder": "​",
            "style": "IPY_MODEL_7f53ba659bd24ce28a47dea38d072607",
            "value": " 99/99 [00:00&lt;00:00, 1200.98 examples/s]"
          }
        },
        "290c07912584404baabcaae002434a51": {
          "model_module": "@jupyter-widgets/base",
          "model_name": "LayoutModel",
          "model_module_version": "1.2.0",
          "state": {
            "_model_module": "@jupyter-widgets/base",
            "_model_module_version": "1.2.0",
            "_model_name": "LayoutModel",
            "_view_count": null,
            "_view_module": "@jupyter-widgets/base",
            "_view_module_version": "1.2.0",
            "_view_name": "LayoutView",
            "align_content": null,
            "align_items": null,
            "align_self": null,
            "border": null,
            "bottom": null,
            "display": null,
            "flex": null,
            "flex_flow": null,
            "grid_area": null,
            "grid_auto_columns": null,
            "grid_auto_flow": null,
            "grid_auto_rows": null,
            "grid_column": null,
            "grid_gap": null,
            "grid_row": null,
            "grid_template_areas": null,
            "grid_template_columns": null,
            "grid_template_rows": null,
            "height": null,
            "justify_content": null,
            "justify_items": null,
            "left": null,
            "margin": null,
            "max_height": null,
            "max_width": null,
            "min_height": null,
            "min_width": null,
            "object_fit": null,
            "object_position": null,
            "order": null,
            "overflow": null,
            "overflow_x": null,
            "overflow_y": null,
            "padding": null,
            "right": null,
            "top": null,
            "visibility": null,
            "width": null
          }
        },
        "1deff9d4b21042db9d6087dc42f133ec": {
          "model_module": "@jupyter-widgets/base",
          "model_name": "LayoutModel",
          "model_module_version": "1.2.0",
          "state": {
            "_model_module": "@jupyter-widgets/base",
            "_model_module_version": "1.2.0",
            "_model_name": "LayoutModel",
            "_view_count": null,
            "_view_module": "@jupyter-widgets/base",
            "_view_module_version": "1.2.0",
            "_view_name": "LayoutView",
            "align_content": null,
            "align_items": null,
            "align_self": null,
            "border": null,
            "bottom": null,
            "display": null,
            "flex": null,
            "flex_flow": null,
            "grid_area": null,
            "grid_auto_columns": null,
            "grid_auto_flow": null,
            "grid_auto_rows": null,
            "grid_column": null,
            "grid_gap": null,
            "grid_row": null,
            "grid_template_areas": null,
            "grid_template_columns": null,
            "grid_template_rows": null,
            "height": null,
            "justify_content": null,
            "justify_items": null,
            "left": null,
            "margin": null,
            "max_height": null,
            "max_width": null,
            "min_height": null,
            "min_width": null,
            "object_fit": null,
            "object_position": null,
            "order": null,
            "overflow": null,
            "overflow_x": null,
            "overflow_y": null,
            "padding": null,
            "right": null,
            "top": null,
            "visibility": null,
            "width": null
          }
        },
        "7654fa24137f4ffd9e03ffa0a0230f5d": {
          "model_module": "@jupyter-widgets/controls",
          "model_name": "DescriptionStyleModel",
          "model_module_version": "1.5.0",
          "state": {
            "_model_module": "@jupyter-widgets/controls",
            "_model_module_version": "1.5.0",
            "_model_name": "DescriptionStyleModel",
            "_view_count": null,
            "_view_module": "@jupyter-widgets/base",
            "_view_module_version": "1.2.0",
            "_view_name": "StyleView",
            "description_width": ""
          }
        },
        "1f4765640837421696d479e62dc66ddc": {
          "model_module": "@jupyter-widgets/base",
          "model_name": "LayoutModel",
          "model_module_version": "1.2.0",
          "state": {
            "_model_module": "@jupyter-widgets/base",
            "_model_module_version": "1.2.0",
            "_model_name": "LayoutModel",
            "_view_count": null,
            "_view_module": "@jupyter-widgets/base",
            "_view_module_version": "1.2.0",
            "_view_name": "LayoutView",
            "align_content": null,
            "align_items": null,
            "align_self": null,
            "border": null,
            "bottom": null,
            "display": null,
            "flex": null,
            "flex_flow": null,
            "grid_area": null,
            "grid_auto_columns": null,
            "grid_auto_flow": null,
            "grid_auto_rows": null,
            "grid_column": null,
            "grid_gap": null,
            "grid_row": null,
            "grid_template_areas": null,
            "grid_template_columns": null,
            "grid_template_rows": null,
            "height": null,
            "justify_content": null,
            "justify_items": null,
            "left": null,
            "margin": null,
            "max_height": null,
            "max_width": null,
            "min_height": null,
            "min_width": null,
            "object_fit": null,
            "object_position": null,
            "order": null,
            "overflow": null,
            "overflow_x": null,
            "overflow_y": null,
            "padding": null,
            "right": null,
            "top": null,
            "visibility": null,
            "width": null
          }
        },
        "8119ef4304a24a60b1effc1d01b08650": {
          "model_module": "@jupyter-widgets/controls",
          "model_name": "ProgressStyleModel",
          "model_module_version": "1.5.0",
          "state": {
            "_model_module": "@jupyter-widgets/controls",
            "_model_module_version": "1.5.0",
            "_model_name": "ProgressStyleModel",
            "_view_count": null,
            "_view_module": "@jupyter-widgets/base",
            "_view_module_version": "1.2.0",
            "_view_name": "StyleView",
            "bar_color": null,
            "description_width": ""
          }
        },
        "373061455d84462e836fad076d257206": {
          "model_module": "@jupyter-widgets/base",
          "model_name": "LayoutModel",
          "model_module_version": "1.2.0",
          "state": {
            "_model_module": "@jupyter-widgets/base",
            "_model_module_version": "1.2.0",
            "_model_name": "LayoutModel",
            "_view_count": null,
            "_view_module": "@jupyter-widgets/base",
            "_view_module_version": "1.2.0",
            "_view_name": "LayoutView",
            "align_content": null,
            "align_items": null,
            "align_self": null,
            "border": null,
            "bottom": null,
            "display": null,
            "flex": null,
            "flex_flow": null,
            "grid_area": null,
            "grid_auto_columns": null,
            "grid_auto_flow": null,
            "grid_auto_rows": null,
            "grid_column": null,
            "grid_gap": null,
            "grid_row": null,
            "grid_template_areas": null,
            "grid_template_columns": null,
            "grid_template_rows": null,
            "height": null,
            "justify_content": null,
            "justify_items": null,
            "left": null,
            "margin": null,
            "max_height": null,
            "max_width": null,
            "min_height": null,
            "min_width": null,
            "object_fit": null,
            "object_position": null,
            "order": null,
            "overflow": null,
            "overflow_x": null,
            "overflow_y": null,
            "padding": null,
            "right": null,
            "top": null,
            "visibility": null,
            "width": null
          }
        },
        "7f53ba659bd24ce28a47dea38d072607": {
          "model_module": "@jupyter-widgets/controls",
          "model_name": "DescriptionStyleModel",
          "model_module_version": "1.5.0",
          "state": {
            "_model_module": "@jupyter-widgets/controls",
            "_model_module_version": "1.5.0",
            "_model_name": "DescriptionStyleModel",
            "_view_count": null,
            "_view_module": "@jupyter-widgets/base",
            "_view_module_version": "1.2.0",
            "_view_name": "StyleView",
            "description_width": ""
          }
        },
        "41477a6873d84265bf89f0b2dc3441b1": {
          "model_module": "@jupyter-widgets/controls",
          "model_name": "HBoxModel",
          "model_module_version": "1.5.0",
          "state": {
            "_dom_classes": [],
            "_model_module": "@jupyter-widgets/controls",
            "_model_module_version": "1.5.0",
            "_model_name": "HBoxModel",
            "_view_count": null,
            "_view_module": "@jupyter-widgets/controls",
            "_view_module_version": "1.5.0",
            "_view_name": "HBoxView",
            "box_style": "",
            "children": [
              "IPY_MODEL_ae8474dd23724fa3a054ec1c17ab3d3a",
              "IPY_MODEL_dc2e6e107d244051bc3b9f334142d3fe",
              "IPY_MODEL_c816855d914c49cd85059b928e977ebd"
            ],
            "layout": "IPY_MODEL_6b0a0a9dcc014f628e7a05a1ce858184"
          }
        },
        "ae8474dd23724fa3a054ec1c17ab3d3a": {
          "model_module": "@jupyter-widgets/controls",
          "model_name": "HTMLModel",
          "model_module_version": "1.5.0",
          "state": {
            "_dom_classes": [],
            "_model_module": "@jupyter-widgets/controls",
            "_model_module_version": "1.5.0",
            "_model_name": "HTMLModel",
            "_view_count": null,
            "_view_module": "@jupyter-widgets/controls",
            "_view_module_version": "1.5.0",
            "_view_name": "HTMLView",
            "description": "",
            "description_tooltip": null,
            "layout": "IPY_MODEL_15db0e03b0f449e48d842259f33d6394",
            "placeholder": "​",
            "style": "IPY_MODEL_1263a5c6d81b4cc49673824aaa21382f",
            "value": "Loading checkpoint shards: 100%"
          }
        },
        "dc2e6e107d244051bc3b9f334142d3fe": {
          "model_module": "@jupyter-widgets/controls",
          "model_name": "FloatProgressModel",
          "model_module_version": "1.5.0",
          "state": {
            "_dom_classes": [],
            "_model_module": "@jupyter-widgets/controls",
            "_model_module_version": "1.5.0",
            "_model_name": "FloatProgressModel",
            "_view_count": null,
            "_view_module": "@jupyter-widgets/controls",
            "_view_module_version": "1.5.0",
            "_view_name": "ProgressView",
            "bar_style": "success",
            "description": "",
            "description_tooltip": null,
            "layout": "IPY_MODEL_a2e0d6c0a8ed4c72b8ac8365cb56d881",
            "max": 32,
            "min": 0,
            "orientation": "horizontal",
            "style": "IPY_MODEL_3e481710f6d945799a9fd28f911d73da",
            "value": 32
          }
        },
        "c816855d914c49cd85059b928e977ebd": {
          "model_module": "@jupyter-widgets/controls",
          "model_name": "HTMLModel",
          "model_module_version": "1.5.0",
          "state": {
            "_dom_classes": [],
            "_model_module": "@jupyter-widgets/controls",
            "_model_module_version": "1.5.0",
            "_model_name": "HTMLModel",
            "_view_count": null,
            "_view_module": "@jupyter-widgets/controls",
            "_view_module_version": "1.5.0",
            "_view_name": "HTMLView",
            "description": "",
            "description_tooltip": null,
            "layout": "IPY_MODEL_099bf6ae4036436486cc53fc6542897d",
            "placeholder": "​",
            "style": "IPY_MODEL_b2da0db2be044c31870c97d6b560626a",
            "value": " 32/32 [01:18&lt;00:00,  1.68s/it]"
          }
        },
        "6b0a0a9dcc014f628e7a05a1ce858184": {
          "model_module": "@jupyter-widgets/base",
          "model_name": "LayoutModel",
          "model_module_version": "1.2.0",
          "state": {
            "_model_module": "@jupyter-widgets/base",
            "_model_module_version": "1.2.0",
            "_model_name": "LayoutModel",
            "_view_count": null,
            "_view_module": "@jupyter-widgets/base",
            "_view_module_version": "1.2.0",
            "_view_name": "LayoutView",
            "align_content": null,
            "align_items": null,
            "align_self": null,
            "border": null,
            "bottom": null,
            "display": null,
            "flex": null,
            "flex_flow": null,
            "grid_area": null,
            "grid_auto_columns": null,
            "grid_auto_flow": null,
            "grid_auto_rows": null,
            "grid_column": null,
            "grid_gap": null,
            "grid_row": null,
            "grid_template_areas": null,
            "grid_template_columns": null,
            "grid_template_rows": null,
            "height": null,
            "justify_content": null,
            "justify_items": null,
            "left": null,
            "margin": null,
            "max_height": null,
            "max_width": null,
            "min_height": null,
            "min_width": null,
            "object_fit": null,
            "object_position": null,
            "order": null,
            "overflow": null,
            "overflow_x": null,
            "overflow_y": null,
            "padding": null,
            "right": null,
            "top": null,
            "visibility": null,
            "width": null
          }
        },
        "15db0e03b0f449e48d842259f33d6394": {
          "model_module": "@jupyter-widgets/base",
          "model_name": "LayoutModel",
          "model_module_version": "1.2.0",
          "state": {
            "_model_module": "@jupyter-widgets/base",
            "_model_module_version": "1.2.0",
            "_model_name": "LayoutModel",
            "_view_count": null,
            "_view_module": "@jupyter-widgets/base",
            "_view_module_version": "1.2.0",
            "_view_name": "LayoutView",
            "align_content": null,
            "align_items": null,
            "align_self": null,
            "border": null,
            "bottom": null,
            "display": null,
            "flex": null,
            "flex_flow": null,
            "grid_area": null,
            "grid_auto_columns": null,
            "grid_auto_flow": null,
            "grid_auto_rows": null,
            "grid_column": null,
            "grid_gap": null,
            "grid_row": null,
            "grid_template_areas": null,
            "grid_template_columns": null,
            "grid_template_rows": null,
            "height": null,
            "justify_content": null,
            "justify_items": null,
            "left": null,
            "margin": null,
            "max_height": null,
            "max_width": null,
            "min_height": null,
            "min_width": null,
            "object_fit": null,
            "object_position": null,
            "order": null,
            "overflow": null,
            "overflow_x": null,
            "overflow_y": null,
            "padding": null,
            "right": null,
            "top": null,
            "visibility": null,
            "width": null
          }
        },
        "1263a5c6d81b4cc49673824aaa21382f": {
          "model_module": "@jupyter-widgets/controls",
          "model_name": "DescriptionStyleModel",
          "model_module_version": "1.5.0",
          "state": {
            "_model_module": "@jupyter-widgets/controls",
            "_model_module_version": "1.5.0",
            "_model_name": "DescriptionStyleModel",
            "_view_count": null,
            "_view_module": "@jupyter-widgets/base",
            "_view_module_version": "1.2.0",
            "_view_name": "StyleView",
            "description_width": ""
          }
        },
        "a2e0d6c0a8ed4c72b8ac8365cb56d881": {
          "model_module": "@jupyter-widgets/base",
          "model_name": "LayoutModel",
          "model_module_version": "1.2.0",
          "state": {
            "_model_module": "@jupyter-widgets/base",
            "_model_module_version": "1.2.0",
            "_model_name": "LayoutModel",
            "_view_count": null,
            "_view_module": "@jupyter-widgets/base",
            "_view_module_version": "1.2.0",
            "_view_name": "LayoutView",
            "align_content": null,
            "align_items": null,
            "align_self": null,
            "border": null,
            "bottom": null,
            "display": null,
            "flex": null,
            "flex_flow": null,
            "grid_area": null,
            "grid_auto_columns": null,
            "grid_auto_flow": null,
            "grid_auto_rows": null,
            "grid_column": null,
            "grid_gap": null,
            "grid_row": null,
            "grid_template_areas": null,
            "grid_template_columns": null,
            "grid_template_rows": null,
            "height": null,
            "justify_content": null,
            "justify_items": null,
            "left": null,
            "margin": null,
            "max_height": null,
            "max_width": null,
            "min_height": null,
            "min_width": null,
            "object_fit": null,
            "object_position": null,
            "order": null,
            "overflow": null,
            "overflow_x": null,
            "overflow_y": null,
            "padding": null,
            "right": null,
            "top": null,
            "visibility": null,
            "width": null
          }
        },
        "3e481710f6d945799a9fd28f911d73da": {
          "model_module": "@jupyter-widgets/controls",
          "model_name": "ProgressStyleModel",
          "model_module_version": "1.5.0",
          "state": {
            "_model_module": "@jupyter-widgets/controls",
            "_model_module_version": "1.5.0",
            "_model_name": "ProgressStyleModel",
            "_view_count": null,
            "_view_module": "@jupyter-widgets/base",
            "_view_module_version": "1.2.0",
            "_view_name": "StyleView",
            "bar_color": null,
            "description_width": ""
          }
        },
        "099bf6ae4036436486cc53fc6542897d": {
          "model_module": "@jupyter-widgets/base",
          "model_name": "LayoutModel",
          "model_module_version": "1.2.0",
          "state": {
            "_model_module": "@jupyter-widgets/base",
            "_model_module_version": "1.2.0",
            "_model_name": "LayoutModel",
            "_view_count": null,
            "_view_module": "@jupyter-widgets/base",
            "_view_module_version": "1.2.0",
            "_view_name": "LayoutView",
            "align_content": null,
            "align_items": null,
            "align_self": null,
            "border": null,
            "bottom": null,
            "display": null,
            "flex": null,
            "flex_flow": null,
            "grid_area": null,
            "grid_auto_columns": null,
            "grid_auto_flow": null,
            "grid_auto_rows": null,
            "grid_column": null,
            "grid_gap": null,
            "grid_row": null,
            "grid_template_areas": null,
            "grid_template_columns": null,
            "grid_template_rows": null,
            "height": null,
            "justify_content": null,
            "justify_items": null,
            "left": null,
            "margin": null,
            "max_height": null,
            "max_width": null,
            "min_height": null,
            "min_width": null,
            "object_fit": null,
            "object_position": null,
            "order": null,
            "overflow": null,
            "overflow_x": null,
            "overflow_y": null,
            "padding": null,
            "right": null,
            "top": null,
            "visibility": null,
            "width": null
          }
        },
        "b2da0db2be044c31870c97d6b560626a": {
          "model_module": "@jupyter-widgets/controls",
          "model_name": "DescriptionStyleModel",
          "model_module_version": "1.5.0",
          "state": {
            "_model_module": "@jupyter-widgets/controls",
            "_model_module_version": "1.5.0",
            "_model_name": "DescriptionStyleModel",
            "_view_count": null,
            "_view_module": "@jupyter-widgets/base",
            "_view_module_version": "1.2.0",
            "_view_name": "StyleView",
            "description_width": ""
          }
        },
        "7a1dac4ae0bf402b83d6850db32edfdd": {
          "model_module": "@jupyter-widgets/controls",
          "model_name": "HBoxModel",
          "model_module_version": "1.5.0",
          "state": {
            "_dom_classes": [],
            "_model_module": "@jupyter-widgets/controls",
            "_model_module_version": "1.5.0",
            "_model_name": "HBoxModel",
            "_view_count": null,
            "_view_module": "@jupyter-widgets/controls",
            "_view_module_version": "1.5.0",
            "_view_name": "HBoxView",
            "box_style": "",
            "children": [
              "IPY_MODEL_af354618a4d94b6384866b9635239a91",
              "IPY_MODEL_2eb46121da4c4f9ebc8a266ca8da619b",
              "IPY_MODEL_6458e02cce764068b180b6ea6990ae87"
            ],
            "layout": "IPY_MODEL_3dcd1bff6e9b42669fb1fcae9e260fd3"
          }
        },
        "af354618a4d94b6384866b9635239a91": {
          "model_module": "@jupyter-widgets/controls",
          "model_name": "HTMLModel",
          "model_module_version": "1.5.0",
          "state": {
            "_dom_classes": [],
            "_model_module": "@jupyter-widgets/controls",
            "_model_module_version": "1.5.0",
            "_model_name": "HTMLModel",
            "_view_count": null,
            "_view_module": "@jupyter-widgets/controls",
            "_view_module_version": "1.5.0",
            "_view_name": "HTMLView",
            "description": "",
            "description_tooltip": null,
            "layout": "IPY_MODEL_460922a46e214c96922c45e450812587",
            "placeholder": "​",
            "style": "IPY_MODEL_b63b17f6fd0842e8852c1e9e03992993",
            "value": "Map:   0%"
          }
        },
        "2eb46121da4c4f9ebc8a266ca8da619b": {
          "model_module": "@jupyter-widgets/controls",
          "model_name": "FloatProgressModel",
          "model_module_version": "1.5.0",
          "state": {
            "_dom_classes": [],
            "_model_module": "@jupyter-widgets/controls",
            "_model_module_version": "1.5.0",
            "_model_name": "FloatProgressModel",
            "_view_count": null,
            "_view_module": "@jupyter-widgets/controls",
            "_view_module_version": "1.5.0",
            "_view_name": "ProgressView",
            "bar_style": "",
            "description": "",
            "description_tooltip": null,
            "layout": "IPY_MODEL_50f48d1ba9e0462384dff5ef68738d79",
            "max": 1046,
            "min": 0,
            "orientation": "horizontal",
            "style": "IPY_MODEL_94b686056c954b84bf3fe99f48fe4de7",
            "value": 0
          }
        },
        "6458e02cce764068b180b6ea6990ae87": {
          "model_module": "@jupyter-widgets/controls",
          "model_name": "HTMLModel",
          "model_module_version": "1.5.0",
          "state": {
            "_dom_classes": [],
            "_model_module": "@jupyter-widgets/controls",
            "_model_module_version": "1.5.0",
            "_model_name": "HTMLModel",
            "_view_count": null,
            "_view_module": "@jupyter-widgets/controls",
            "_view_module_version": "1.5.0",
            "_view_name": "HTMLView",
            "description": "",
            "description_tooltip": null,
            "layout": "IPY_MODEL_fd580f998bd6423faa260a76157619b9",
            "placeholder": "​",
            "style": "IPY_MODEL_2760da9e18094700bf265a9112612505",
            "value": " 0/1046 [00:00&lt;?, ? examples/s]"
          }
        },
        "3dcd1bff6e9b42669fb1fcae9e260fd3": {
          "model_module": "@jupyter-widgets/base",
          "model_name": "LayoutModel",
          "model_module_version": "1.2.0",
          "state": {
            "_model_module": "@jupyter-widgets/base",
            "_model_module_version": "1.2.0",
            "_model_name": "LayoutModel",
            "_view_count": null,
            "_view_module": "@jupyter-widgets/base",
            "_view_module_version": "1.2.0",
            "_view_name": "LayoutView",
            "align_content": null,
            "align_items": null,
            "align_self": null,
            "border": null,
            "bottom": null,
            "display": null,
            "flex": null,
            "flex_flow": null,
            "grid_area": null,
            "grid_auto_columns": null,
            "grid_auto_flow": null,
            "grid_auto_rows": null,
            "grid_column": null,
            "grid_gap": null,
            "grid_row": null,
            "grid_template_areas": null,
            "grid_template_columns": null,
            "grid_template_rows": null,
            "height": null,
            "justify_content": null,
            "justify_items": null,
            "left": null,
            "margin": null,
            "max_height": null,
            "max_width": null,
            "min_height": null,
            "min_width": null,
            "object_fit": null,
            "object_position": null,
            "order": null,
            "overflow": null,
            "overflow_x": null,
            "overflow_y": null,
            "padding": null,
            "right": null,
            "top": null,
            "visibility": null,
            "width": null
          }
        },
        "460922a46e214c96922c45e450812587": {
          "model_module": "@jupyter-widgets/base",
          "model_name": "LayoutModel",
          "model_module_version": "1.2.0",
          "state": {
            "_model_module": "@jupyter-widgets/base",
            "_model_module_version": "1.2.0",
            "_model_name": "LayoutModel",
            "_view_count": null,
            "_view_module": "@jupyter-widgets/base",
            "_view_module_version": "1.2.0",
            "_view_name": "LayoutView",
            "align_content": null,
            "align_items": null,
            "align_self": null,
            "border": null,
            "bottom": null,
            "display": null,
            "flex": null,
            "flex_flow": null,
            "grid_area": null,
            "grid_auto_columns": null,
            "grid_auto_flow": null,
            "grid_auto_rows": null,
            "grid_column": null,
            "grid_gap": null,
            "grid_row": null,
            "grid_template_areas": null,
            "grid_template_columns": null,
            "grid_template_rows": null,
            "height": null,
            "justify_content": null,
            "justify_items": null,
            "left": null,
            "margin": null,
            "max_height": null,
            "max_width": null,
            "min_height": null,
            "min_width": null,
            "object_fit": null,
            "object_position": null,
            "order": null,
            "overflow": null,
            "overflow_x": null,
            "overflow_y": null,
            "padding": null,
            "right": null,
            "top": null,
            "visibility": null,
            "width": null
          }
        },
        "b63b17f6fd0842e8852c1e9e03992993": {
          "model_module": "@jupyter-widgets/controls",
          "model_name": "DescriptionStyleModel",
          "model_module_version": "1.5.0",
          "state": {
            "_model_module": "@jupyter-widgets/controls",
            "_model_module_version": "1.5.0",
            "_model_name": "DescriptionStyleModel",
            "_view_count": null,
            "_view_module": "@jupyter-widgets/base",
            "_view_module_version": "1.2.0",
            "_view_name": "StyleView",
            "description_width": ""
          }
        },
        "50f48d1ba9e0462384dff5ef68738d79": {
          "model_module": "@jupyter-widgets/base",
          "model_name": "LayoutModel",
          "model_module_version": "1.2.0",
          "state": {
            "_model_module": "@jupyter-widgets/base",
            "_model_module_version": "1.2.0",
            "_model_name": "LayoutModel",
            "_view_count": null,
            "_view_module": "@jupyter-widgets/base",
            "_view_module_version": "1.2.0",
            "_view_name": "LayoutView",
            "align_content": null,
            "align_items": null,
            "align_self": null,
            "border": null,
            "bottom": null,
            "display": null,
            "flex": null,
            "flex_flow": null,
            "grid_area": null,
            "grid_auto_columns": null,
            "grid_auto_flow": null,
            "grid_auto_rows": null,
            "grid_column": null,
            "grid_gap": null,
            "grid_row": null,
            "grid_template_areas": null,
            "grid_template_columns": null,
            "grid_template_rows": null,
            "height": null,
            "justify_content": null,
            "justify_items": null,
            "left": null,
            "margin": null,
            "max_height": null,
            "max_width": null,
            "min_height": null,
            "min_width": null,
            "object_fit": null,
            "object_position": null,
            "order": null,
            "overflow": null,
            "overflow_x": null,
            "overflow_y": null,
            "padding": null,
            "right": null,
            "top": null,
            "visibility": null,
            "width": null
          }
        },
        "94b686056c954b84bf3fe99f48fe4de7": {
          "model_module": "@jupyter-widgets/controls",
          "model_name": "ProgressStyleModel",
          "model_module_version": "1.5.0",
          "state": {
            "_model_module": "@jupyter-widgets/controls",
            "_model_module_version": "1.5.0",
            "_model_name": "ProgressStyleModel",
            "_view_count": null,
            "_view_module": "@jupyter-widgets/base",
            "_view_module_version": "1.2.0",
            "_view_name": "StyleView",
            "bar_color": null,
            "description_width": ""
          }
        },
        "fd580f998bd6423faa260a76157619b9": {
          "model_module": "@jupyter-widgets/base",
          "model_name": "LayoutModel",
          "model_module_version": "1.2.0",
          "state": {
            "_model_module": "@jupyter-widgets/base",
            "_model_module_version": "1.2.0",
            "_model_name": "LayoutModel",
            "_view_count": null,
            "_view_module": "@jupyter-widgets/base",
            "_view_module_version": "1.2.0",
            "_view_name": "LayoutView",
            "align_content": null,
            "align_items": null,
            "align_self": null,
            "border": null,
            "bottom": null,
            "display": null,
            "flex": null,
            "flex_flow": null,
            "grid_area": null,
            "grid_auto_columns": null,
            "grid_auto_flow": null,
            "grid_auto_rows": null,
            "grid_column": null,
            "grid_gap": null,
            "grid_row": null,
            "grid_template_areas": null,
            "grid_template_columns": null,
            "grid_template_rows": null,
            "height": null,
            "justify_content": null,
            "justify_items": null,
            "left": null,
            "margin": null,
            "max_height": null,
            "max_width": null,
            "min_height": null,
            "min_width": null,
            "object_fit": null,
            "object_position": null,
            "order": null,
            "overflow": null,
            "overflow_x": null,
            "overflow_y": null,
            "padding": null,
            "right": null,
            "top": null,
            "visibility": null,
            "width": null
          }
        },
        "2760da9e18094700bf265a9112612505": {
          "model_module": "@jupyter-widgets/controls",
          "model_name": "DescriptionStyleModel",
          "model_module_version": "1.5.0",
          "state": {
            "_model_module": "@jupyter-widgets/controls",
            "_model_module_version": "1.5.0",
            "_model_name": "DescriptionStyleModel",
            "_view_count": null,
            "_view_module": "@jupyter-widgets/base",
            "_view_module_version": "1.2.0",
            "_view_name": "StyleView",
            "description_width": ""
          }
        }
      }
    }
  },
  "cells": [
    {
      "cell_type": "markdown",
      "metadata": {
        "id": "view-in-github",
        "colab_type": "text"
      },
      "source": [
        "<a href=\"https://colab.research.google.com/github/NiclasFenton-Wiegleb/schlager-lyrics-bot/blob/main/Schlage_bot_V2.ipynb\" target=\"_parent\"><img src=\"https://colab.research.google.com/assets/colab-badge.svg\" alt=\"Open In Colab\"/></a>"
      ]
    },
    {
      "cell_type": "code",
      "execution_count": 1,
      "metadata": {
        "id": "I1aLVqVczjQY"
      },
      "outputs": [],
      "source": [
        "!pip install transformers==4.3\n",
        "!pip install datasets\n",
        "!pip install peft\n",
        "!pip install accelerate\n",
        "!pip install bitsandbytes\n",
        "!pip install trl\n",
        "!pip install safetensors\n"
      ]
    },
    {
      "cell_type": "code",
      "source": [
        "#Check CUDA is running on GPU and bf16 supported (required)\n",
        "\n",
        "import torch\n",
        "print(torch.cuda.is_available(), torch.cuda.is_bf16_supported())"
      ],
      "metadata": {
        "colab": {
          "base_uri": "https://localhost:8080/"
        },
        "id": "KZyU7ckG9zx-",
        "outputId": "7738ff91-7254-4980-9b85-92757a8f42f4"
      },
      "execution_count": 2,
      "outputs": [
        {
          "output_type": "stream",
          "name": "stdout",
          "text": [
            "True False\n"
          ]
        }
      ]
    },
    {
      "cell_type": "code",
      "source": [
        "#Import dependencies\n",
        "\n",
        "from random import randrange\n",
        "import pandas as pd\n",
        "from datasets import Dataset"
      ],
      "metadata": {
        "id": "xddoxWiZz9qh"
      },
      "execution_count": 3,
      "outputs": []
    },
    {
      "cell_type": "code",
      "source": [
        "df_lyrics = pd.read_csv('schlager_songs_v2.csv')\n",
        "\n",
        "df_lyrics['lyrics'][10]"
      ],
      "metadata": {
        "colab": {
          "base_uri": "https://localhost:8080/",
          "height": 35
        },
        "id": "XRn7gvV20CsC",
        "outputId": "6cd18612-388a-4f34-e34d-54fdb78d006a"
      },
      "execution_count": 4,
      "outputs": [
        {
          "output_type": "execute_result",
          "data": {
            "text/plain": [
              "'{\"status\"false,\"reason\"\"Unexpected error occurred (no quota cost) Please try again later\"}'"
            ],
            "application/vnd.google.colaboratory.intrinsic+json": {
              "type": "string"
            }
          },
          "metadata": {},
          "execution_count": 4
        }
      ]
    },
    {
      "cell_type": "code",
      "source": [
        "# Create separate column for 1st verse\n",
        "\n",
        "verse_list = []\n",
        "\n",
        "for ind in df_lyrics[\"lyrics\"].index:\n",
        "    lyrics = df_lyrics[\"lyrics\"].iloc[ind]\n",
        "    if lyrics == '{\"status\"false,\"reason\"\"Unexpected error occurred (no quota cost) Please try again later\"}' :\n",
        "        verse_list.append(None)\n",
        "    else:\n",
        "        try:\n",
        "            verse = lyrics.split(\"\\n\")[0]\n",
        "            n = 1\n",
        "            while len(' '.join(verse).split()) <= 15:\n",
        "                verse = lyrics.split(\"\\n\")[0:n]\n",
        "                n += 1\n",
        "            verse_list.append(''.join(verse))\n",
        "\n",
        "        except:\n",
        "            verse_list.append(None)\n",
        "\n",
        "\n",
        "df_lyrics[\"verse_1\"] = verse_list\n",
        "\n",
        "df_lyrics[\"verse_1\"][0]\n",
        "\n",
        "df_lyrics.to_csv(\"schlager_songs_v2.csv\")"
      ],
      "metadata": {
        "id": "8mtY_ZL706gm"
      },
      "execution_count": 5,
      "outputs": []
    },
    {
      "cell_type": "code",
      "source": [
        "# Prompt Example\n",
        "\n",
        "### Instruction:\n",
        "\n",
        "\"Benuzte den unten gegebenen Vers um den Text für ein Lied zu schreiben.\"\n",
        "\n",
        "### Input:\n",
        "\n",
        "\"Du sagst nicht ein Wort\"\n",
        "\n",
        "### Response:\n",
        "\n",
        "f\"\"\" Du sagst nicht ein Wort\n",
        " Und deine Hand wischt eine Träne fort\n",
        " Und dein leerer Blick\n",
        " Sinkt in dein Glas\n",
        " Du sitzt hier vor mir\n",
        " Und dein Gesicht lässt keinen Zweifel mehr\n",
        " Heut sagst du mir\n",
        " Dass ich dich verlier'\n",
        " Nie war Zeit für dich\n",
        " Ich lebte nur in meiner eignen Welt\n",
        " Ich weiß, du wirst gehen\n",
        " Ich muss dich versteh'n\n",
        " Lieb mich ein letztes mal\n",
        " Es bleibt mir keine andre Wahl\n",
        " Ich weiß, dass ich die Nacht mit dir\n",
        " An den Tag verlier'\n",
        "...\n",
        " Und bleib bei mir\"\"\""
      ],
      "metadata": {
        "colab": {
          "base_uri": "https://localhost:8080/",
          "height": 105
        },
        "id": "R6V6mFcD0-TM",
        "outputId": "f73ca0db-3a9e-45b6-f7b5-1988f7afdfe6"
      },
      "execution_count": 6,
      "outputs": [
        {
          "output_type": "execute_result",
          "data": {
            "text/plain": [
              "\" Du sagst nicht ein Wort\\n Und deine Hand wischt eine Träne fort\\n Und dein leerer Blick\\n Sinkt in dein Glas\\n Du sitzt hier vor mir\\n Und dein Gesicht lässt keinen Zweifel mehr\\n Heut sagst du mir\\n Dass ich dich verlier'\\n Nie war Zeit für dich\\n Ich lebte nur in meiner eignen Welt\\n Ich weiß, du wirst gehen\\n Ich muss dich versteh'n\\n Lieb mich ein letztes mal\\n Es bleibt mir keine andre Wahl\\n Ich weiß, dass ich die Nacht mit dir\\n An den Tag verlier'\\n...\\n Und bleib bei mir\""
            ],
            "application/vnd.google.colaboratory.intrinsic+json": {
              "type": "string"
            }
          },
          "metadata": {},
          "execution_count": 6
        }
      ]
    },
    {
      "cell_type": "code",
      "source": [
        "def format_instruction(sample):\n",
        "\n",
        "    output_texts = []\n",
        "\n",
        "    for i in range(len(sample['input'])):\n",
        "      text = f\"\"\"### Anweisung:\n",
        "Benuzte den unten gegebenen Vers um den Text für ein Lied zu schreiben.\n",
        "\n",
        "### Input:\n",
        "\n",
        "{sample['input']}\n",
        "\n",
        "### Output:\n",
        "\n",
        "{sample['output']}\"\"\"\n",
        "\n",
        "      output_texts.append(text)\n",
        "\n",
        "    return output_texts\n"
      ],
      "metadata": {
        "id": "fsUKzUef1BU9"
      },
      "execution_count": 7,
      "outputs": []
    },
    {
      "cell_type": "code",
      "source": [
        "#Create input and output dataset from dataframe\n",
        "\n",
        "df_dataset = df_lyrics[[\"verse_1\", \"lyrics\"]]\n",
        "\n",
        "ind_nan = []\n",
        "\n",
        "for ind in df_dataset.index:\n",
        "    if df_dataset[\"verse_1\"].iloc[ind] == None:\n",
        "        ind_nan.append(ind)\n",
        "    else:\n",
        "        continue\n",
        "\n",
        "df_dataset.drop(index=ind_nan, inplace=True)\n",
        "\n",
        "df_dataset.reset_index(drop=True, inplace=True)\n",
        "\n",
        "df_dataset.rename(columns={\"lyrics\" : \"output\", \"verse_1\" : \"input\"}, inplace= True)"
      ],
      "metadata": {
        "colab": {
          "base_uri": "https://localhost:8080/"
        },
        "id": "POcra1uT1Eyz",
        "outputId": "3b96a3ab-1724-46ff-878a-201ad99f7ebb"
      },
      "execution_count": 8,
      "outputs": [
        {
          "output_type": "stream",
          "name": "stderr",
          "text": [
            "<ipython-input-8-933d3ca1faf6>:13: SettingWithCopyWarning: \n",
            "A value is trying to be set on a copy of a slice from a DataFrame\n",
            "\n",
            "See the caveats in the documentation: https://pandas.pydata.org/pandas-docs/stable/user_guide/indexing.html#returning-a-view-versus-a-copy\n",
            "  df_dataset.drop(index=ind_nan, inplace=True)\n",
            "<ipython-input-8-933d3ca1faf6>:17: SettingWithCopyWarning: \n",
            "A value is trying to be set on a copy of a slice from a DataFrame\n",
            "\n",
            "See the caveats in the documentation: https://pandas.pydata.org/pandas-docs/stable/user_guide/indexing.html#returning-a-view-versus-a-copy\n",
            "  df_dataset.rename(columns={\"lyrics\" : \"output\", \"verse_1\" : \"input\"}, inplace= True)\n"
          ]
        }
      ]
    },
    {
      "cell_type": "code",
      "source": [
        "print(len(df_dataset))"
      ],
      "metadata": {
        "colab": {
          "base_uri": "https://localhost:8080/"
        },
        "id": "M6lEeOT-DaF0",
        "outputId": "8ce8f9e5-f036-439e-d804-05107853d979"
      },
      "execution_count": 9,
      "outputs": [
        {
          "output_type": "stream",
          "name": "stdout",
          "text": [
            "1046\n"
          ]
        }
      ]
    },
    {
      "cell_type": "code",
      "source": [
        "train_df = df_dataset[0:946]\n",
        "test_df = df_dataset[947:1046]"
      ],
      "metadata": {
        "id": "MDuB22TfD4oV"
      },
      "execution_count": 10,
      "outputs": []
    },
    {
      "cell_type": "code",
      "source": [
        "from datasets.dataset_dict import DatasetDict\n",
        "\n",
        "datasets_train_test = DatasetDict({\n",
        "    \"train\": Dataset.from_pandas(train_df),\n",
        "    \"test\": Dataset.from_pandas(test_df)\n",
        "    })\n",
        "\n",
        "datasets_train_test"
      ],
      "metadata": {
        "colab": {
          "base_uri": "https://localhost:8080/"
        },
        "id": "Si77CVUvDYbZ",
        "outputId": "ff1aeabc-f789-4b4d-b0b3-45e25592e658"
      },
      "execution_count": 11,
      "outputs": [
        {
          "output_type": "execute_result",
          "data": {
            "text/plain": [
              "DatasetDict({\n",
              "    train: Dataset({\n",
              "        features: ['input', 'output'],\n",
              "        num_rows: 946\n",
              "    })\n",
              "    test: Dataset({\n",
              "        features: ['input', 'output'],\n",
              "        num_rows: 99\n",
              "    })\n",
              "})"
            ]
          },
          "metadata": {},
          "execution_count": 11
        }
      ]
    },
    {
      "cell_type": "code",
      "source": [
        "print(format_instruction(datasets_train_test[\"train\"][randrange(946)])[0])"
      ],
      "metadata": {
        "colab": {
          "base_uri": "https://localhost:8080/"
        },
        "id": "U4rZvR4x1KM5",
        "outputId": "4c79f04b-7db3-46c4-a381-deae6f441467"
      },
      "execution_count": 12,
      "outputs": [
        {
          "output_type": "stream",
          "name": "stdout",
          "text": [
            "### Anweisung:\n",
            "Benuzte den unten gegebenen Vers um den Text für ein Lied zu schreiben.\n",
            "      \n",
            "### Input:\n",
            "      \n",
            " Ich bleib einfach hier heute Nacht\n",
            "      \n",
            "### Output:\n",
            "      \n",
            " Ich bleib einfach hier heute Nacht\n",
            " Trink Bier heute Nacht\n",
            " Mit dir, wenn de Bock hast\n",
            " Bei allen anderen sind schon die Leuchten aus\n",
            " Doch nicht mal zehn Türsteher kriegen mich heut hier raus\n",
            " Mit jeder Stunde steigt hier mein Verbrauch\n",
            " Leg mich unter den Zapfhahn und trink weiter, ow\n",
            " Und wenn der Hahn nicht mehr läuft, dann nehm ich mir 'n Kasten\n",
            " Ich bin zwar schon über , doch noch lang nicht erwachsen\n",
            " Die ganze Kohle hau ich einfach raus\n",
            " Ich geh nirgendwo hin und schon gar nicht nach Haus\n",
            " Ich bleib einfach hier heute Nacht\n",
            " Trink Bier heute Nacht\n",
            " Mit dir, wenn de Bock hast\n",
            " Ich bleib einfach hier heute Nacht\n",
            " Rasier heute Nacht\n",
            " Mit dir, wenn de Bock hast\n",
            " Ich bleib einfach hier heute Nacht\n",
            " Trink Bier heute Nacht\n",
            " Mit dir, wenn de Bock hast\n",
            " Ich bleib einfach hier heute Nacht\n",
            " Rasier heute Nacht\n",
            " Mit dir, wenn de Bock hast\n",
            " War schon ewig nicht zu Haus, meine Pflanzen verdursten\n",
            " Die Nacht wird lang, also noch 'n paar Kurze\n",
            " Ich komm hier nie wieder weg, ich krieg nicht mehr die Kurve\n",
            " Wenn ich hier je wieder rauskomm dann in Sarg oder Urne\n",
            " Die letzte Bahn ist eh schon weg, was für'n Pech\n",
            " Ich sitz hier fest mit  Flaschen Sekt\n",
            " Ey, ich lass die Korken heute knallen\n",
            " Bis wir alle nur noch lallen, werden wir zusammen alt\n",
            " Ich bleib einfach hier heute Nacht\n",
            " Trink Bier heute Nacht\n",
            " Mit dir, wenn de Bock hast\n",
            " Ich bleib einfach hier heute Nacht\n",
            " Rasier heute Nacht\n",
            " Mit dir, wenn de Bock hast\n",
            " Ich bleib einfach hier heute Nacht\n",
            " Trink Bier heute Nacht\n",
            " Mit dir, wenn de Bock hast\n",
            " Ich bleib einfach hier heute Nacht\n",
            " Rasier heute Nacht\n",
            " Mit dir, wenn de Bock hast\n",
            "\n"
          ]
        }
      ]
    },
    {
      "cell_type": "markdown",
      "source": [
        "*Break Start*"
      ],
      "metadata": {
        "id": "TkriZya2C28y"
      }
    },
    {
      "cell_type": "code",
      "source": [
        "# Import dependencies\n",
        "\n",
        "import torch\n",
        "from transformers import AutoTokenizer, AutoModelForCausalLM, BitsAndBytesConfig, TrainingArguments\n",
        "from trl import SFTTrainer\n",
        "import accelerate\n",
        "\n",
        "#SFTTrainer supports a native integration with peft, which makes it easy to instruction tune LLMs\n",
        "\n",
        "from peft import get_peft_config, get_peft_model, PromptTuningInit, PromptTuningConfig, TaskType, PeftType\n"
      ],
      "metadata": {
        "id": "fhA4j8iM1NT5"
      },
      "execution_count": 13,
      "outputs": []
    },
    {
      "cell_type": "code",
      "source": [
        "#Parameters\n",
        "device = \"cuda\"\n",
        "model_id = \"malteos/bloom-6b4-clp-german\" # non-gated\n",
        "\n",
        "peft_config = PromptTuningConfig(\n",
        "            task_type=\"CAUSAL_LM\",\n",
        "            prompt_tuning_init=PromptTuningInit.TEXT,\n",
        "            num_virtual_tokens=8,\n",
        "            prompt_tuning_init_text=\"Benuzte den gegebenen Vers um den Text für ein Schlager Lied zu schreiben.\",\n",
        "            tokenizer_name_or_path=model_id\n",
        ")\n",
        "\n",
        "dataset_name = \"schlager_lyrics\"\n",
        "checkpoint_name = f\"{dataset_name}_{model_id}_{peft_config.peft_type}_{peft_config.task_type}_v1.pt\".replace(\n",
        "    \"/\", \"_\"\n",
        ")\n",
        "text_column = \"input\"\n",
        "label_column = \"output\"\n",
        "max_length = 64 #optimize\n",
        "lr = 2e-4\n",
        "num_epochs = 50\n",
        "batch_size = 4\n"
      ],
      "metadata": {
        "id": "4blVBIVzW_xE"
      },
      "execution_count": 28,
      "outputs": []
    },
    {
      "cell_type": "markdown",
      "source": [
        "Preprocess dataset"
      ],
      "metadata": {
        "id": "HtmpBHtBGJPm"
      }
    },
    {
      "cell_type": "code",
      "source": [
        "tokenizer = AutoTokenizer.from_pretrained(model_id)\n",
        "if tokenizer.pad_token_id is None:\n",
        "    tokenizer.pad_token_id = tokenizer.eos_token_id"
      ],
      "metadata": {
        "id": "z0pIMza4C7sI"
      },
      "execution_count": 29,
      "outputs": []
    },
    {
      "cell_type": "code",
      "source": [
        "def preprocess_function(examples):\n",
        "    batch_size = len(examples[text_column])\n",
        "    inputs = [f\"{x}\" for x in examples[text_column]]\n",
        "    targets = [str(x) for x in examples[label_column]]\n",
        "    model_inputs = tokenizer(inputs)\n",
        "    labels = tokenizer(targets)\n",
        "    for i in range(batch_size):\n",
        "        sample_input_ids = model_inputs[\"input_ids\"][i]\n",
        "        label_input_ids = labels[\"input_ids\"][i] + [tokenizer.pad_token_id]\n",
        "        # print(i, sample_input_ids, label_input_ids)\n",
        "        model_inputs[\"input_ids\"][i] = sample_input_ids + label_input_ids\n",
        "        labels[\"input_ids\"][i] = [-100] * len(sample_input_ids) + label_input_ids\n",
        "        model_inputs[\"attention_mask\"][i] = [1] * len(model_inputs[\"input_ids\"][i])\n",
        "    # print(model_inputs)\n",
        "    for i in range(batch_size):\n",
        "        sample_input_ids = model_inputs[\"input_ids\"][i]\n",
        "        label_input_ids = labels[\"input_ids\"][i]\n",
        "        model_inputs[\"input_ids\"][i] = [tokenizer.pad_token_id] * (\n",
        "            max_length - len(sample_input_ids)\n",
        "        ) + sample_input_ids\n",
        "        model_inputs[\"attention_mask\"][i] = [0] * (max_length - len(sample_input_ids)) + model_inputs[\n",
        "            \"attention_mask\"\n",
        "        ][i]\n",
        "        labels[\"input_ids\"][i] = [-100] * (max_length - len(sample_input_ids)) + label_input_ids\n",
        "        model_inputs[\"input_ids\"][i] = torch.tensor(model_inputs[\"input_ids\"][i][:max_length])\n",
        "        model_inputs[\"attention_mask\"][i] = torch.tensor(model_inputs[\"attention_mask\"][i][:max_length])\n",
        "        labels[\"input_ids\"][i] = torch.tensor(labels[\"input_ids\"][i][:max_length])\n",
        "    model_inputs[\"labels\"] = labels[\"input_ids\"]\n",
        "    return model_inputs"
      ],
      "metadata": {
        "id": "mstE_yOCI7PM"
      },
      "execution_count": 30,
      "outputs": []
    },
    {
      "cell_type": "code",
      "source": [
        "preprocess_function(datasets_train_test[\"train\"][0:10])"
      ],
      "metadata": {
        "id": "wVesnnGfJmNb"
      },
      "execution_count": null,
      "outputs": []
    },
    {
      "cell_type": "code",
      "source": [
        "processed_datasets = datasets_train_test.map(\n",
        "    preprocess_function,\n",
        "    batched=True,\n",
        "    num_proc=1,\n",
        "    remove_columns=datasets_train_test[\"train\"].column_names,\n",
        "    load_from_cache_file=False,\n",
        "    desc=\"Running tokenizer on dataset\",\n",
        ")"
      ],
      "metadata": {
        "colab": {
          "base_uri": "https://localhost:8080/",
          "height": 81,
          "referenced_widgets": [
            "9b7dcfc678114563a2e9e9d7ea479d2c",
            "99c68ec627ac4cc9b50c74cd3e3265ec",
            "df3db5206cab4120ac8662625c240e4d",
            "6c70e99b6541476bb65e853b08916566",
            "8f1f693e78584439bfe472039429eccd",
            "c9767813dfdb43dcbaf679ce04530074",
            "4525cb81801545b5a99cb56cd954de36",
            "7b710d3f69a54fcb8c3aee396082d5ed",
            "24eef1afda864995b758570193ade775",
            "0cea847f46774897905cf2997025ae2c",
            "153626efbd1e4467afcd331ded6188d5",
            "704fa8e8236c4b85acba258a5a015f21",
            "ad4895452f9b4719b0f975e4a4dc171d",
            "372fcd4a32d141e8a012fb18139660e2",
            "12782cd1e78c4debbb2795ce75a1ad6b",
            "290c07912584404baabcaae002434a51",
            "1deff9d4b21042db9d6087dc42f133ec",
            "7654fa24137f4ffd9e03ffa0a0230f5d",
            "1f4765640837421696d479e62dc66ddc",
            "8119ef4304a24a60b1effc1d01b08650",
            "373061455d84462e836fad076d257206",
            "7f53ba659bd24ce28a47dea38d072607"
          ]
        },
        "id": "VErNInDhMFnU",
        "outputId": "dd1fe5b7-ac73-4fe3-ed41-536ad91c8090"
      },
      "execution_count": 32,
      "outputs": [
        {
          "output_type": "display_data",
          "data": {
            "text/plain": [
              "Running tokenizer on dataset:   0%|          | 0/946 [00:00<?, ? examples/s]"
            ],
            "application/vnd.jupyter.widget-view+json": {
              "version_major": 2,
              "version_minor": 0,
              "model_id": "9b7dcfc678114563a2e9e9d7ea479d2c"
            }
          },
          "metadata": {}
        },
        {
          "output_type": "display_data",
          "data": {
            "text/plain": [
              "Running tokenizer on dataset:   0%|          | 0/99 [00:00<?, ? examples/s]"
            ],
            "application/vnd.jupyter.widget-view+json": {
              "version_major": 2,
              "version_minor": 0,
              "model_id": "704fa8e8236c4b85acba258a5a015f21"
            }
          },
          "metadata": {}
        }
      ]
    },
    {
      "cell_type": "code",
      "source": [
        "train_dataset = processed_datasets[\"train\"]\n",
        "eval_dataset = processed_datasets[\"test\"]\n",
        "\n",
        "\n",
        "train_dataloader = DataLoader(\n",
        "    train_dataset,\n",
        "    shuffle=True,\n",
        "    collate_fn=default_data_collator,\n",
        "    batch_size=batch_size,\n",
        "    pin_memory=True\n",
        ")\n",
        "eval_dataloader = DataLoader(eval_dataset, collate_fn=default_data_collator, batch_size=batch_size, pin_memory=True)"
      ],
      "metadata": {
        "id": "SRC5Wpq0MogO"
      },
      "execution_count": null,
      "outputs": []
    },
    {
      "cell_type": "markdown",
      "source": [
        "*Break End*"
      ],
      "metadata": {
        "id": "9SyI9FTSCwLe"
      }
    },
    {
      "cell_type": "code",
      "source": [
        "# Hugging Face model id\n",
        "model_id = \"malteos/bloom-6b4-clp-german\" # non-gated\n",
        "\n",
        "\n",
        "# BitsAndBytesConfig int-4 config\n",
        "bnb_config = BitsAndBytesConfig(\n",
        "    load_in_4bit=True,\n",
        "    bnb_4bit_use_double_quant=True,\n",
        "    bnb_4bit_quant_type=\"nf4\",\n",
        "    bnb_4bit_compute_dtype=torch.bfloat16\n",
        ")\n",
        "\n",
        "\n",
        "bloom_model = BloomModelForCausalLM.from_pretrained(\n",
        "      model_id,\n",
        "      load_in_8bit=True,\n",
        "      # quantization_config=bnb_config,\n",
        "      use_cache=False,\n",
        "      torch_dtype=torch.float16,\n",
        "      device_map=\"auto\")\n",
        "\n",
        "# model.config.pretraining_tp = 1\n"
      ],
      "metadata": {
        "id": "WO2DbO441Vea",
        "colab": {
          "base_uri": "https://localhost:8080/",
          "height": 49,
          "referenced_widgets": [
            "41477a6873d84265bf89f0b2dc3441b1",
            "ae8474dd23724fa3a054ec1c17ab3d3a",
            "dc2e6e107d244051bc3b9f334142d3fe",
            "c816855d914c49cd85059b928e977ebd",
            "6b0a0a9dcc014f628e7a05a1ce858184",
            "15db0e03b0f449e48d842259f33d6394",
            "1263a5c6d81b4cc49673824aaa21382f",
            "a2e0d6c0a8ed4c72b8ac8365cb56d881",
            "3e481710f6d945799a9fd28f911d73da",
            "099bf6ae4036436486cc53fc6542897d",
            "b2da0db2be044c31870c97d6b560626a"
          ]
        },
        "outputId": "7a2644b6-7ee6-4bb9-9ab4-fd473805cc83"
      },
      "execution_count": 14,
      "outputs": [
        {
          "output_type": "display_data",
          "data": {
            "text/plain": [
              "Loading checkpoint shards:   0%|          | 0/32 [00:00<?, ?it/s]"
            ],
            "application/vnd.jupyter.widget-view+json": {
              "version_major": 2,
              "version_minor": 0,
              "model_id": "41477a6873d84265bf89f0b2dc3441b1"
            }
          },
          "metadata": {}
        }
      ]
    },
    {
      "cell_type": "code",
      "source": [
        "#Load tokenizer\n",
        "tokenizer = AutoTokenizer.from_pretrained(model_id)\n",
        "# tokenizer.pad_token = tokenizer.eos_token\n",
        "# tokenizer.padding_side = \"right\""
      ],
      "metadata": {
        "id": "CeBa_zV91ac8"
      },
      "execution_count": 15,
      "outputs": []
    },
    {
      "cell_type": "code",
      "source": [],
      "metadata": {
        "id": "WTvlcOxsVpHe"
      },
      "execution_count": null,
      "outputs": []
    },
    {
      "cell_type": "code",
      "source": [
        "# LoRA config based on QLoRA paper\n",
        "peft_config = LoraConfig(\n",
        "        lora_alpha=16,\n",
        "        lora_dropout=0.1,\n",
        "        r=64,\n",
        "        bias=\"none\",\n",
        "        task_type=\"CAUSAL_LM\"\n",
        ")\n",
        "\n",
        "\n",
        "# prepare model for training\n",
        "model = prepare_model_for_kbit_training(model)\n",
        "model = get_peft_model(model, peft_config)"
      ],
      "metadata": {
        "id": "YEOJD6ab1eAx"
      },
      "execution_count": 16,
      "outputs": []
    },
    {
      "cell_type": "code",
      "source": [
        "#We need to define the hyperparameters before we can start training\n",
        "\n",
        "args = TrainingArguments(\n",
        "    output_dir=\"./content/drive/MyDrive/AiCore/trained_model/schlager-bot-001\",\n",
        "    num_train_epochs=3,\n",
        "    per_device_train_batch_size= 4,\n",
        "    gradient_accumulation_steps=2,\n",
        "    gradient_checkpointing=True,\n",
        "    optim=\"paged_adamw_32bit\",\n",
        "    logging_steps=10,\n",
        "    save_strategy=\"epoch\",\n",
        "    learning_rate=2e-4,\n",
        "    # bf16=True,\n",
        "    # tf32=True,\n",
        "    max_grad_norm=0.3,\n",
        "    warmup_ratio=0.03,\n",
        "    lr_scheduler_type=\"constant\",\n",
        "    # disable_tqdm=True  # disable tqdm since with packing values are in correct\n",
        ")"
      ],
      "metadata": {
        "id": "rUdJzW0mDM-B"
      },
      "execution_count": 17,
      "outputs": []
    },
    {
      "cell_type": "code",
      "source": [
        "#We can now configure the trainer\n",
        "\n",
        "max_seq_length = 2048 # max sequence length for model and packing of the dataset\n",
        "\n",
        "trainer = SFTTrainer(\n",
        "    model=model,\n",
        "    train_dataset=dataset,\n",
        "    # peft_config=peft_config,\n",
        "    max_seq_length=max_seq_length,\n",
        "    tokenizer=tokenizer,\n",
        "    packing=True,\n",
        "    formatting_func=format_instruction,\n",
        "    args=args,\n",
        ")"
      ],
      "metadata": {
        "id": "DxBNY_LNDQEE",
        "colab": {
          "base_uri": "https://localhost:8080/",
          "height": 49,
          "referenced_widgets": [
            "7a1dac4ae0bf402b83d6850db32edfdd",
            "af354618a4d94b6384866b9635239a91",
            "2eb46121da4c4f9ebc8a266ca8da619b",
            "6458e02cce764068b180b6ea6990ae87",
            "3dcd1bff6e9b42669fb1fcae9e260fd3",
            "460922a46e214c96922c45e450812587",
            "b63b17f6fd0842e8852c1e9e03992993",
            "50f48d1ba9e0462384dff5ef68738d79",
            "94b686056c954b84bf3fe99f48fe4de7",
            "fd580f998bd6423faa260a76157619b9",
            "2760da9e18094700bf265a9112612505"
          ]
        },
        "outputId": "22f5b41d-f7b4-4328-ddc3-754c0cc47c74"
      },
      "execution_count": null,
      "outputs": [
        {
          "output_type": "display_data",
          "data": {
            "text/plain": [
              "Map:   0%|          | 0/1046 [00:00<?, ? examples/s]"
            ],
            "application/vnd.jupyter.widget-view+json": {
              "version_major": 2,
              "version_minor": 0,
              "model_id": "7a1dac4ae0bf402b83d6850db32edfdd"
            }
          },
          "metadata": {}
        }
      ]
    },
    {
      "cell_type": "code",
      "source": [
        "# train\n",
        "trainer.train() # there will not be a progress bar since tqdm is disabled\n",
        "\n",
        "# save model\n",
        "trainer.save_model()"
      ],
      "metadata": {
        "id": "6IR7a-rIDV2a"
      },
      "execution_count": null,
      "outputs": []
    }
  ]
}