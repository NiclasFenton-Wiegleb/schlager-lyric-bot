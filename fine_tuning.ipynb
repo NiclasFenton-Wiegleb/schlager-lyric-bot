{
 "cells": [
  {
   "cell_type": "markdown",
   "metadata": {},
   "source": [
    "### Fine Tuning Schlager Bot\n",
    "\n",
    "Using the dataset of colelcted Schlager song lyrics, we will fine tune a German based LLM to generate song lyrics from a provided verse."
   ]
  },
  {
   "cell_type": "code",
   "execution_count": 10,
   "metadata": {},
   "outputs": [
    {
     "data": {
      "text/plain": [
       "0        Hey Hey Hey (Hey) In einer Kneipe bei Bier un...\n",
       "1        Jetzt geht es los, los, los Die Krüge hoch, h...\n",
       "2        Du bist die schönste, schönste, schönste Frau...\n",
       "3        Wie jedes Jahr Malle wir sind wieder da Ole O...\n",
       "4        Der Wind is kalt und rau Und mer wisse janz j...\n",
       "                              ...                        \n",
       "1277     Ich bin breit, breit wie ein Boxer Dichter wi...\n",
       "1278     Eine Woche lang derbe am Feiern Jede Nacht Pa...\n",
       "1279     Rot, Grün, Blau, ich hab Optik wie 'n Knickli...\n",
       "1280     Du machst an Wheelie Vor meine Fias Auf deine...\n",
       "1281     Def def Deffinitiv Von mir aus können alle sa...\n",
       "Name: lyrics, Length: 1282, dtype: object"
      ]
     },
     "execution_count": 10,
     "metadata": {},
     "output_type": "execute_result"
    }
   ],
   "source": [
    "import pandas as pd\n",
    "\n",
    "df_lyrics = pd.read_csv('schlager_songs.csv')\n",
    "\n",
    "df_lyrics['lyrics']"
   ]
  },
  {
   "cell_type": "code",
   "execution_count": null,
   "metadata": {},
   "outputs": [],
   "source": []
  }
 ],
 "metadata": {
  "kernelspec": {
   "display_name": "kaggle",
   "language": "python",
   "name": "python3"
  },
  "language_info": {
   "codemirror_mode": {
    "name": "ipython",
    "version": 3
   },
   "file_extension": ".py",
   "mimetype": "text/x-python",
   "name": "python",
   "nbconvert_exporter": "python",
   "pygments_lexer": "ipython3",
   "version": "3.11.5"
  },
  "orig_nbformat": 4
 },
 "nbformat": 4,
 "nbformat_minor": 2
}
