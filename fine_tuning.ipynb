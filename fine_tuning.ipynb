{
 "cells": [
  {
   "cell_type": "markdown",
   "metadata": {},
   "source": [
    "### Fine Tuning Schlager Bot\n",
    "\n",
    "Using the dataset of colelcted Schlager song lyrics, we will fine tune a German based LLM to generate song lyrics from a provided verse."
   ]
  },
  {
   "cell_type": "code",
   "execution_count": 35,
   "metadata": {},
   "outputs": [
    {
     "data": {
      "text/plain": [
       "'{\"status\"false,\"reason\"\"Unexpected error occurred (no quota cost) Please try again later\"}'"
      ]
     },
     "execution_count": 35,
     "metadata": {},
     "output_type": "execute_result"
    }
   ],
   "source": [
    "import pandas as pd\n",
    "\n",
    "df_lyrics = pd.read_csv('schlager_songs.csv')\n",
    "\n",
    "df_lyrics['lyrics'][10]"
   ]
  },
  {
   "cell_type": "code",
   "execution_count": 43,
   "metadata": {},
   "outputs": [],
   "source": [
    "# Create separate column for 1st verse\n",
    "\n",
    "verse_list = []\n",
    "\n",
    "for ind in df_lyrics[\"lyrics\"].index:\n",
    "    lyrics = df_lyrics[\"lyrics\"].iloc[ind]\n",
    "    if lyrics == '{\"status\"false,\"reason\"\"Unexpected error occurred (no quota cost) Please try again later\"}' :\n",
    "        verse_list.append(None)\n",
    "    else:\n",
    "        try:\n",
    "            verse = lyrics.split(\"\\n\")[0]\n",
    "            n = 1\n",
    "            while len(' '.join(verse).split()) <= 15:\n",
    "                verse = lyrics.split(\"\\n\")[0:n]\n",
    "                n += 1\n",
    "            verse_list.append(''.join(verse))\n",
    "\n",
    "        except:\n",
    "            verse_list.append(None)\n",
    "\n",
    "\n",
    "df_lyrics[\"verse_1\"] = verse_list\n",
    "\n",
    "df_lyrics[\"verse_1\"][0]\n",
    "\n",
    "df_lyrics.to_csv(\"schlager_songs_v2.csv\")\n"
   ]
  },
  {
   "cell_type": "code",
   "execution_count": 62,
   "metadata": {},
   "outputs": [
    {
     "data": {
      "text/plain": [
       "\" Du sagst nicht ein Wort\\n Und deine Hand wischt eine Träne fort\\n Und dein leerer Blick\\n Sinkt in dein Glas\\n Du sitzt hier vor mir\\n Und dein Gesicht lässt keinen Zweifel mehr\\n Heut sagst du mir\\n Dass ich dich verlier'\\n Nie war Zeit für dich\\n Ich lebte nur in meiner eignen Welt\\n Ich weiß, du wirst gehen\\n Ich muss dich versteh'n\\n Lieb mich ein letztes mal\\n Es bleibt mir keine andre Wahl\\n Ich weiß, dass ich die Nacht mit dir\\n An den Tag verlier'\\n...\\n Und bleib bei mir\""
      ]
     },
     "execution_count": 62,
     "metadata": {},
     "output_type": "execute_result"
    }
   ],
   "source": [
    "# Prompt Example\n",
    "\n",
    "### Instruction:\n",
    "\n",
    "\"Benuzte den unten gegebenen Vers um den Text für ein Lied zu schreiben.\"\n",
    "\n",
    "### Input:\n",
    "\n",
    "\"Du sagst nicht ein Wort\"\n",
    "\n",
    "### Response:\n",
    "\n",
    "f\"\"\" Du sagst nicht ein Wort\n",
    " Und deine Hand wischt eine Träne fort\n",
    " Und dein leerer Blick\n",
    " Sinkt in dein Glas\n",
    " Du sitzt hier vor mir\n",
    " Und dein Gesicht lässt keinen Zweifel mehr\n",
    " Heut sagst du mir\n",
    " Dass ich dich verlier'\n",
    " Nie war Zeit für dich\n",
    " Ich lebte nur in meiner eignen Welt\n",
    " Ich weiß, du wirst gehen\n",
    " Ich muss dich versteh'n\n",
    " Lieb mich ein letztes mal\n",
    " Es bleibt mir keine andre Wahl\n",
    " Ich weiß, dass ich die Nacht mit dir\n",
    " An den Tag verlier'\n",
    "...\n",
    " Und bleib bei mir\"\"\""
   ]
  },
  {
   "cell_type": "code",
   "execution_count": 60,
   "metadata": {},
   "outputs": [],
   "source": [
    "def fromat_instruction(sample):\n",
    "    return f\"\"\"### Instruction:\n",
    "Benuzte den unten gegebenen Vers um den Text für ein Lied zu schreiben.\n",
    "\n",
    "### Input:\n",
    "\n",
    "{sample['input']}\n",
    "\n",
    "### Response:\n",
    "\n",
    "{sample['output']}\n",
    "\n",
    "\"\"\""
   ]
  },
  {
   "cell_type": "code",
   "execution_count": null,
   "metadata": {},
   "outputs": [],
   "source": [
    "#Create input and output dataset from dataframe\n",
    "\n",
    "from datasets import Dataset\n",
    "\n",
    "df_dataset = df_lyrics[[\"verse_1\", \"lyrics\"]]\n",
    "\n",
    "ind_nan = []\n",
    "\n",
    "for ind in df_dataset.index:\n",
    "    if df_dataset[\"verse_1\"].iloc[ind] == None:\n",
    "        ind_nan.append(ind)\n",
    "    else:\n",
    "        continue\n",
    "\n",
    "df_dataset.drop(index=ind_nan, inplace=True)\n",
    "\n",
    "df_dataset.reset_index(drop=True, inplace=True)\n",
    "\n",
    "df_dataset.rename(columns={\"lyrics\" : \"output\", \"verse_1\" : \"input\"}, inplace= True)\n",
    "\n",
    "dataset = Dataset.from_pandas(df_dataset)\n",
    "\n",
    "dataset\n"
   ]
  },
  {
   "cell_type": "code",
   "execution_count": 61,
   "metadata": {},
   "outputs": [
    {
     "name": "stdout",
     "output_type": "stream",
     "text": [
      "### Instruction:\n",
      "Benuzte den unten gegebenen Vers um den Text für ein Lied zu schreiben.\n",
      "\n",
      "### Input:\n",
      "\n",
      " Du sagst nicht ein Wort\n",
      "\n",
      "### Response:\n",
      "\n",
      " Du sagst nicht ein Wort\n",
      " Und deine Hand wischt eine Träne fort\n",
      " Und dein leerer Blick\n",
      " Sinkt in dein Glas\n",
      " Du sitzt hier vor mir\n",
      " Und dein Gesicht lässt keinen Zweifel mehr\n",
      " Heut sagst du mir\n",
      " Dass ich dich verlier'\n",
      " Nie war Zeit für dich\n",
      " Ich lebte nur in meiner eignen Welt\n",
      " Ich weiß, du wirst gehen\n",
      " Ich muss dich versteh'n\n",
      " Lieb mich ein letztes mal\n",
      " Es bleibt mir keine andre Wahl\n",
      " Ich weiß, dass ich die Nacht mit dir\n",
      " An den Tag verlier'\n",
      " Schenk mir die Zeit\n",
      " Die uns noch bleibt\n",
      " Lieb mich ein letztes Mal\n",
      " Lass' mich dich noch einmal spür'n\n",
      " Bist du auch morgen nicht mehr hier\n",
      " Etwas bleibt von dir\n",
      " Wenn ich erwach'\n",
      " Alleine erwach'\n",
      " Ich hab' so viel Zeit\n",
      " Neben dir, an dir vorbei gelebt\n",
      " Ich nahm, doch was ich gab\n",
      " Zählte nicht viel\n",
      " Du hast oft geweint\n",
      " Doch ich war blind\n",
      " Sah deine Tränen nicht\n",
      " Heut ist mir klar\n",
      " Wie einsam du warst\n",
      " Lieb mich ein letztes mal\n",
      " Es bleibt mir keine andre Wahl\n",
      " Ich weiß, dass ich die Nacht mit dir\n",
      " An den Tag verlier'\n",
      " Schenk mir die Zeit\n",
      " Die uns noch bleibt\n",
      " Lieb mich ein letztes Mal\n",
      " Lass mich dich noch einmal spür'n\n",
      " Wenn du mich noch immer liebst\n",
      " Und du mir vergibst\n",
      " Dann schließ die Tür\n",
      " Und bleib bei mir\n",
      " Lieb mich ein letztes Mal\n",
      " Lass mich dich noch einmal spür'n\n",
      " Wenn du mich noch immer liebst\n",
      " Und du mir vergibst\n",
      " Dann schließ die Tür\n",
      " Und bleib bei mir\n",
      "\n",
      "\n",
      "\n"
     ]
    }
   ],
   "source": [
    "from random import randrange\n",
    "\n",
    "print(fromat_instruction(dataset[randrange(len(dataset))]))"
   ]
  }
 ],
 "metadata": {
  "kernelspec": {
   "display_name": "kaggle",
   "language": "python",
   "name": "python3"
  },
  "language_info": {
   "codemirror_mode": {
    "name": "ipython",
    "version": 3
   },
   "file_extension": ".py",
   "mimetype": "text/x-python",
   "name": "python",
   "nbconvert_exporter": "python",
   "pygments_lexer": "ipython3",
   "version": "3.11.5"
  },
  "orig_nbformat": 4
 },
 "nbformat": 4,
 "nbformat_minor": 2
}
