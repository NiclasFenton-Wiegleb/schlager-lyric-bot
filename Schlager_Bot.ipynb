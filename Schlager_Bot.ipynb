{
  "nbformat": 4,
  "nbformat_minor": 0,
  "metadata": {
    "colab": {
      "provenance": [],
      "authorship_tag": "ABX9TyNsxgGsbJ6QizrG2+0NmE0e",
      "include_colab_link": true
    },
    "kernelspec": {
      "name": "python3",
      "display_name": "Python 3"
    },
    "language_info": {
      "name": "python"
    }
  },
  "cells": [
    {
      "cell_type": "markdown",
      "metadata": {
        "id": "view-in-github",
        "colab_type": "text"
      },
      "source": [
        "<a href=\"https://colab.research.google.com/github/NiclasFenton-Wiegleb/schlager-lyrics-bot/blob/main/Schlager_Bot.ipynb\" target=\"_parent\"><img src=\"https://colab.research.google.com/assets/colab-badge.svg\" alt=\"Open In Colab\"/></a>"
      ]
    },
    {
      "cell_type": "code",
      "source": [
        "!git clone https://github.com/NiclasFenton-Wiegleb/schlager-lyrics-bot.git"
      ],
      "metadata": {
        "id": "K79XLegu11m4",
        "outputId": "334b6264-4788-4e67-cd96-a68aae71df65",
        "colab": {
          "base_uri": "https://localhost:8080/"
        }
      },
      "execution_count": 1,
      "outputs": [
        {
          "output_type": "stream",
          "name": "stdout",
          "text": [
            "Cloning into 'schlager-lyrics-bot'...\n",
            "remote: Enumerating objects: 1890, done.\u001b[K\n",
            "remote: Counting objects: 100% (52/52), done.\u001b[K\n",
            "remote: Compressing objects: 100% (44/44), done.\u001b[K\n",
            "remote: Total 1890 (delta 20), reused 32 (delta 8), pack-reused 1838\u001b[K\n",
            "Receiving objects: 100% (1890/1890), 98.35 MiB | 19.56 MiB/s, done.\n",
            "Resolving deltas: 100% (112/112), done.\n",
            "Updating files: 100% (3282/3282), done.\n"
          ]
        }
      ]
    },
    {
      "cell_type": "code",
      "source": [
        "!pip install -q condacolab\n",
        "import condacolab\n",
        "condacolab.install()"
      ],
      "metadata": {
        "id": "mJjPPpsE2XKp",
        "outputId": "8a968822-458a-43d4-95d6-6d3e06178060",
        "colab": {
          "base_uri": "https://localhost:8080/"
        }
      },
      "execution_count": 3,
      "outputs": [
        {
          "output_type": "stream",
          "name": "stdout",
          "text": [
            "\u001b[33mWARNING: Running pip as the 'root' user can result in broken permissions and conflicting behaviour with the system package manager. It is recommended to use a virtual environment instead: https://pip.pypa.io/warnings/venv\u001b[0m\u001b[33m\n",
            "\u001b[0m✨🍰✨ Everything looks OK!\n"
          ]
        }
      ]
    },
    {
      "cell_type": "code",
      "source": [
        "!conda --version"
      ],
      "metadata": {
        "id": "Hm_ZF4q_2v-h",
        "outputId": "66c6bd13-963d-4270-d4a9-63680eee2b02",
        "colab": {
          "base_uri": "https://localhost:8080/"
        }
      },
      "execution_count": 1,
      "outputs": [
        {
          "output_type": "stream",
          "name": "stdout",
          "text": [
            "conda 23.1.0\n"
          ]
        }
      ]
    },
    {
      "cell_type": "code",
      "source": [
        "!conda create -n schlager_bot --file ./schlager-lyrics-bot/req.txt"
      ],
      "metadata": {
        "id": "QR6xqB7P20TY",
        "outputId": "c6a4adbd-b79e-4035-f20c-475a3439bda0",
        "colab": {
          "base_uri": "https://localhost:8080/"
        }
      },
      "execution_count": 2,
      "outputs": [
        {
          "output_type": "stream",
          "name": "stdout",
          "text": [
            "Collecting package metadata (current_repodata.json): - \b\b\\ \b\b| \b\b/ \b\b- \b\b\\ \b\b| \b\b/ \b\b- \b\b\\ \b\b| \b\b/ \b\b- \b\b\\ \b\b| \b\b/ \b\b- \b\b\\ \b\b| \b\b/ \b\b- \b\b\\ \b\b| \b\b/ \b\b- \b\b\\ \b\b| \b\b/ \b\b- \b\b\\ \b\b| \b\b/ \b\b- \b\b\\ \b\b| \b\b/ \b\b- \b\b\\ \b\b| \b\b/ \b\b- \b\b\\ \b\b| \b\b/ \b\b- \b\b\\ \b\b| \b\b/ \b\b- \b\b\\ \b\b| \b\b/ \b\b- \b\b\\ \b\b| \b\b/ \b\b- \b\b\\ \b\b| \b\b/ \b\b- \b\b\\ \b\b| \b\b/ \b\b- \b\b\\ \b\b| \b\b/ \b\b- \b\b\\ \b\b| \b\b/ \b\b- \b\b\\ \b\b| \b\b/ \b\b- \b\b\\ \b\b| \b\b/ \b\b- \b\b\\ \b\b| \b\b/ \b\b- \b\b\\ \b\b| \b\b/ \b\b- \b\b\\ \b\b| \b\b/ \b\b- \b\b\\ \b\b| \b\b/ \b\b- \b\b\\ \b\b| \b\b/ \b\b- \b\b\\ \b\b| \b\b/ \b\b- \b\b\\ \b\b| \b\b/ \b\b- \b\b\\ \b\b| \b\b/ \b\b- \b\b\\ \b\b| \b\b/ \b\b- \b\b\\ \b\b| \b\b/ \b\b- \b\b\\ \b\b| \b\b/ \b\b- \b\b\\ \b\b| \b\b/ \b\b- \b\b\\ \b\b| \b\b/ \b\b- \b\b\\ \b\b| \b\b/ \b\b- \b\b\\ \b\b| \b\b/ \b\b- \b\b\\ \b\b| \b\b/ \b\b- \b\b\\ \b\b| \b\b/ \b\b- \b\b\\ \b\b| \b\b/ \b\b- \b\b\\ \b\b| \b\b/ \b\b- \b\b\\ \b\b| \b\b/ \b\b- \b\b\\ \b\b| \b\b/ \b\b- \b\b\\ \b\b| \b\b/ \b\b- \b\b\\ \b\b| \b\b/ \b\b- \b\b\\ \b\b| \b\b/ \b\b- \b\b\\ \b\b| \b\b/ \b\b- \b\b\\ \b\b| \b\b/ \b\b- \b\b\\ \b\b| \b\b/ \b\b- \b\b\\ \b\b| \b\b/ \b\b- \b\b\\ \b\b| \b\b/ \b\b- \b\b\\ \b\b| \b\b/ \b\b- \b\b\\ \b\b| \b\b/ \b\b- \b\b\\ \b\b| \b\b/ \b\b- \b\b\\ \b\b| \b\b/ \b\b- \b\b\\ \b\b| \b\b/ \b\b- \b\b\\ \b\b| \b\b/ \b\b- \b\b\\ \b\bdone\n",
            "Solving environment: / \b\bfailed with repodata from current_repodata.json, will retry with next repodata source.\n",
            "Collecting package metadata (repodata.json): \\ \b\b| \b\b/ \b\b- \b\b\\ \b\b| \b\b/ \b\b- \b\b\\ \b\b| \b\b/ \b\b- \b\b\\ \b\b| \b\b/ \b\b- \b\b\\ \b\b| \b\b/ \b\b- \b\b\\ \b\b| \b\b/ \b\b- \b\b\\ \b\b| \b\b/ \b\b- \b\b\\ \b\b| \b\b/ \b\b- \b\b\\ \b\b| \b\b/ \b\b- \b\b\\ \b\b| \b\b/ \b\b- \b\b\\ \b\b| \b\b/ \b\b- \b\b\\ \b\b| \b\b/ \b\b- \b\b\\ \b\b| \b\b/ \b\b- \b\b\\ \b\b| \b\b/ \b\b- \b\b\\ \b\b| \b\b/ \b\b- \b\b\\ \b\b| \b\b/ \b\b- \b\b\\ \b\b| \b\b/ \b\b- \b\b\\ \b\b| \b\b/ \b\b- \b\b\\ \b\b| \b\b/ \b\b- \b\b\\ \b\b| \b\b/ \b\b- \b\b\\ \b\b| \b\b/ \b\b- \b\b\\ \b\b| \b\b/ \b\b- \b\b\\ \b\b| \b\b/ \b\b- \b\b\\ \b\b| \b\b/ \b\b- \b\b\\ \b\b| \b\b/ \b\b- \b\b\\ \b\b| \b\b/ \b\b- \b\b\\ \b\b| \b\b/ \b\b- \b\b\\ \b\b| \b\b/ \b\b- \b\b\\ \b\b| \b\b/ \b\b- \b\b\\ \b\b| \b\b/ \b\b- \b\b\\ \b\b| \b\b/ \b\b- \b\b\\ \b\b| \b\b/ \b\b- \b\b\\ \b\b| \b\b/ \b\b- \b\b\\ \b\b| \b\b/ \b\b- \b\b\\ \b\b| \b\b/ \b\b- \b\b\\ \b\b| \b\b/ \b\b- \b\b\\ \b\b| \b\b/ \b\b- \b\b\\ \b\b| \b\b/ \b\b- \b\b\\ \b\b| \b\b/ \b\b- \b\b\\ \b\b| \b\b/ \b\b- \b\b\\ \b\b| \b\b/ \b\b- \b\b\\ \b\b| \b\b/ \b\b- \b\b\\ \b\b| \b\b/ \b\b- \b\b\\ \b\b| \b\b/ \b\b- \b\b\\ \b\b| \b\b/ \b\b- \b\b\\ \b\b| \b\b/ \b\b- \b\b\\ \b\b| \b\b/ \b\b- \b\b\\ \b\b| \b\b/ \b\b- \b\b\\ \b\b| \b\b/ \b\b- \b\b\\ \b\b| \b\b/ \b\b- \b\b\\ \b\b| \b\b/ \b\b- \b\b\\ \b\b| \b\b/ \b\b- \b\b\\ \b\b| \b\b/ \b\b- \b\b\\ \b\b| \b\b/ \b\b- \b\b\\ \b\b| \b\b/ \b\b- \b\b\\ \b\b| \b\b/ \b\b- \b\b\\ \b\b| \b\b/ \b\b- \b\b\\ \b\b| \b\b/ \b\b- \b\b\\ \b\b| \b\b/ \b\b- \b\b\\ \b\b| \b\b/ \b\b- \b\b\\ \b\b| \b\b/ \b\b- \b\b\\ \b\b| \b\b/ \b\b- \b\b\\ \b\b| \b\b/ \b\b- \b\b\\ \b\b| \b\b/ \b\b- \b\b\\ \b\b| \b\b/ \b\b- \b\b\\ \b\b| \b\b/ \b\b- \b\b\\ \b\b| \b\b/ \b\b- \b\b\\ \b\b| \b\b/ \b\b- \b\b\\ \b\b| \b\b/ \b\b- \b\b\\ \b\b| \b\b/ \b\b- \b\b\\ \b\b| \b\b/ \b\b- \b\b\\ \b\b| \b\b/ \b\b- \b\b\\ \b\b| \b\b/ \b\b- \b\b\\ \b\b| \b\b/ \b\b- \b\b\\ \b\b| \b\b/ \b\b- \b\b\\ \b\b| \b\b/ \b\b- \b\b\\ \b\b| \b\b/ \b\b- \b\b\\ \b\b| \b\b/ \b\b- \b\b\\ \b\b| \b\b/ \b\b- \b\b\\ \b\b| \b\b/ \b\b- \b\b\\ \b\b| \b\b/ \b\b- \b\b\\ \b\b| \b\b/ \b\b- \b\b\\ \b\b| \b\b/ \b\b- \b\b\\ \b\b| \b\b/ \b\b- \b\b\\ \b\b| \b\b/ \b\b- \b\b\\ \b\b| \b\b/ \b\b- \b\b\\ \b\b| \b\b/ \b\b- \b\b\\ \b\b| \b\b/ \b\b- \b\b\\ \b\b| \b\b/ \b\b- \b\b\\ \b\b| \b\b/ \b\b- \b\b\\ \b\b| \b\b/ \b\b- \b\b\\ \b\b| \b\b/ \b\b- \b\b\\ \b\b| \b\b/ \b\b- \b\b\\ \b\b| \b\b/ \b\b- \b\b\\ \b\b| \b\b/ \b\b- \b\b\\ \b\b| \b\b/ \b\b- \b\b\\ \b\b| \b\b/ \b\b- \b\b\\ \b\b| \b\b/ \b\b- \b\b\\ \b\b| \b\b/ \b\b- \b\b\\ \b\b| \b\b/ \b\b- \b\b\\ \b\b| \b\b/ \b\b- \b\b\\ \b\b| \b\b/ \b\b- \b\b\\ \b\b| \b\b/ \b\b- \b\b\\ \b\b| \b\b/ \b\b- \b\b\\ \b\b| \b\b/ \b\b- \b\b\\ \b\b| \b\b/ \b\b- \b\b\\ \b\b| \b\b/ \b\b- \b\b\\ \b\b| \b\b/ \b\b- \b\b\\ \b\b| \b\b/ \b\b- \b\b\\ \b\b| \b\b/ \b\b- \b\b\\ \b\b| \b\b/ \b\b- \b\b\\ \b\b| \b\b/ \b\b- \b\b\\ \b\b| \b\b/ \b\b- \b\b\\ \b\b| \b\b/ \b\b- \b\b\\ \b\b| \b\b/ \b\b- \b\b\\ \b\b| \b\b/ \b\b- \b\b\\ \b\b| \b\b/ \b\b- \b\b\\ \b\b| \b\b/ \b\b- \b\b\\ \b\b| \b\b/ \b\b- \b\b\\ \b\b| \b\b/ \b\b- \b\b\\ \b\b| \b\b/ \b\b- \b\b\\ \b\b| \b\b/ \b\b- \b\b\\ \b\b| \b\b/ \b\b- \b\b\\ \b\b| \b\b/ \b\b- \b\b\\ \b\b| \b\b/ \b\b- \b\b\\ \b\b| \b\b/ \b\b- \b\b\\ \b\b| \b\b/ \b\b- \b\b\\ \b\b| \b\b/ \b\b- \b\b\\ \b\b| \b\b/ \b\b- \b\b\\ \b\b| \b\b/ \b\b- \b\b\\ \b\b| \b\b/ \b\b- \b\b\\ \b\b| \b\b/ \b\b- \b\b\\ \b\b| \b\b/ \b\b- \b\b\\ \b\b| \b\b/ \b\b- \b\b\\ \b\b| \b\b/ \b\b- \b\b\\ \b\b| \b\b/ \b\b- \b\b\\ \b\b| \b\b/ \b\b- \b\b\\ \b\b| \b\b/ \b\b- \b\b\\ \b\b| \b\b/ \b\b- \b\b\\ \b\b| \b\b/ \b\b- \b\b\\ \b\b| \b\b/ \b\b- \b\b\\ \b\b| \b\b/ \b\b- \b\b\\ \b\b| \b\b/ \b\b- \b\b\\ \b\b| \b\b/ \b\b- \b\b\\ \b\b| \b\b/ \b\b- \b\b\\ \b\b| \b\b/ \b\b- \b\b\\ \b\b| \b\b/ \b\b- \b\b\\ \b\b| \b\b/ \b\b- \b\b\\ \b\b| \b\b/ \b\b- \b\b\\ \b\b| \b\b/ \b\b- \b\b\\ \b\b| \b\b/ \b\b- \b\b\\ \b\b| \b\b/ \b\b- \b\b\\ \b\b| \b\b/ \b\b- \b\b\\ \b\b| \b\b/ \b\b- \b\b\\ \b\b| \b\b/ \b\b- \b\b\\ \b\b| \b\b/ \b\b- \b\b\\ \b\b| \b\b/ \b\b- \b\b\\ \b\b| \b\b/ \b\b- \b\b\\ \b\b| \b\b/ \b\b- \b\b\\ \b\b| \b\b/ \b\b- \b\b\\ \b\b| \b\b/ \b\b- \b\b\\ \b\b| \b\b/ \b\b- \b\b\\ \b\b| \b\b/ \b\b- \b\b\\ \b\b| \b\b/ \b\b- \b\b\\ \b\b| \b\b/ \b\b- \b\b\\ \b\b| \b\b/ \b\b- \b\b\\ \b\b| \b\b/ \b\b- \b\b\\ \b\b| \b\b/ \b\b- \b\b\\ \b\b| \b\b/ \b\b- \b\b\\ \b\b| \b\b/ \b\b- \b\b\\ \b\b| \b\b/ \b\b- \b\b\\ \b\b| \b\b/ \b\b- \b\b\\ \b\b| \b\b/ \b\b- \b\b\\ \b\b| \b\b/ \b\b- \b\b\\ \b\b| \b\b/ \b\b- \b\b\\ \b\b| \b\b/ \b\b- \b\b\\ \b\b| \b\b/ \b\b- \b\b\\ \b\b| \b\b/ \b\b- \b\b\\ \b\b| \b\b/ \b\b- \b\b\\ \b\b| \b\b/ \b\b- \b\b\\ \b\b| \b\b/ \b\b- \b\b\\ \b\b| \b\b/ \b\b- \b\b\\ \b\b| \b\b/ \b\b- \b\b\\ \b\b| \b\b/ \b\b- \b\b\\ \b\b| \b\b/ \b\b- \b\b\\ \b\b| \b\b/ \b\b- \b\b\\ \b\b| \b\b/ \b\b- \b\b\\ \b\b| \b\b/ \b\b- \b\b\\ \b\b| \b\b/ \b\b- \b\b\\ \b\b| \b\b/ \b\b- \b\b\\ \b\b| \b\b/ \b\b- \b\b\\ \b\b| \b\b/ \b\b- \b\b\\ \b\b| \b\b/ \b\b- \b\b\\ \b\b| \b\b/ \b\b- \b\b\\ \b\b| \b\b/ \b\b- \b\b\\ \b\b| \b\b/ \b\b- \b\b\\ \b\b| \b\b/ \b\b- \b\b\\ \b\b| \b\b/ \b\b- \b\b\\ \b\b| \b\b/ \b\b- \b\b\\ \b\b| \b\b/ \b\b- \b\b\\ \b\b| \b\b/ \b\b- \b\b\\ \b\b| \b\b/ \b\b- \b\b\\ \b\b| \b\b/ \b\b- \b\b\\ \b\b| \b\b/ \b\b- \b\b\\ \b\b| \b\b/ \b\b- \b\b\\ \b\b| \b\b/ \b\b- \b\b\\ \b\b| \b\b/ \b\b- \b\b\\ \b\b| \b\b/ \b\b- \b\b\\ \b\b| \b\b/ \b\b- \b\b\\ \b\b| \b\b/ \b\b- \b\b\\ \b\b| \b\b/ \b\b- \b\b\\ \b\b| \b\b/ \b\b- \b\b\\ \b\b| \b\b/ \b\b- \b\b\\ \b\b| \b\b/ \b\b- \b\b\\ \b\b| \b\b/ \b\b- \b\b\\ \b\b| \b\b/ \b\b- \b\b\\ \b\b| \b\b/ \b\b- \b\b\\ \b\b| \b\b/ \b\b- \b\b\\ \b\b| \b\b/ \b\b- \b\b\\ \b\b| \b\b/ \b\b- \b\b\\ \b\b| \b\b/ \b\b- \b\b\\ \b\b| \b\b/ \b\b- \b\b\\ \b\b| \b\b/ \b\b- \b\b\\ \b\b| \b\b/ \b\b- \b\b\\ \b\b| \b\b/ \b\b- \b\b\\ \b\b| \b\b/ \b\b- \b\b\\ \b\b| \b\b/ \b\b- \b\b\\ \b\b| \b\b/ \b\b- \b\b\\ \b\b| \b\b/ \b\b- \b\b\\ \b\b| \b\b/ \b\b- \b\b\\ \b\b| \b\b/ \b\b- \b\b\\ \b\b| \b\b/ \b\b- \b\b\\ \b\b| \b\b/ \b\b- \b\b\\ \b\b| \b\b/ \b\b- \b\b\\ \b\b| \b\b/ \b\b- \b\b\\ \b\b| \b\bdone\n",
            "Solving environment: - \b\b\\ \b\bfailed\n",
            "\n",
            "PackagesNotFoundError: The following packages are not available from current channels:\n",
            "\n",
            "  - mkl_random==1.2.2=py38h51133e4_0\n",
            "  - tqdm==4.64.1=py38h06a4308_0\n",
            "  - ruamel.yaml.clib==0.2.6=py38h5eee18b_1\n",
            "  - jupyter_core==5.1.1=py38h06a4308_0\n",
            "  - mkl==2021.4.0=h06a4308_640\n",
            "  - jupyter_console==6.4.4=py38h06a4308_0\n",
            "  - jupyter_server==1.23.4=py38h06a4308_0\n",
            "  - numpy==1.23.5=py38h14f4228_0\n",
            "  - lcms2==2.12=h3be6417_0\n",
            "  - munkres==1.1.4=py_0\n",
            "  - prometheus_client==0.14.1=py38h06a4308_0\n",
            "  - glib==2.69.1=he621ea3_2\n",
            "  - prompt-toolkit==3.0.36=py38h06a4308_0\n",
            "  - tomli==2.0.1=py38h06a4308_0\n",
            "  - libbrotlienc==1.0.9=h5eee18b_7\n",
            "  - seaborn==0.12.2=py38h06a4308_0\n",
            "  - toolz==0.12.0=py38h06a4308_0\n",
            "  - notebook-shim==0.2.2=py38h06a4308_0\n",
            "  - cffi==1.15.1=py38h5eee18b_3\n",
            "  - fontconfig==2.14.1=h52c9d5c_1\n",
            "  - markupsafe==2.1.1=py38h7f8727e_0\n",
            "  - mpmath==1.2.1=py38h06a4308_0\n",
            "  - networkx==2.8.4=py38h06a4308_1\n",
            "  - pexpect==4.8.0=pyhd3eb1b0_3\n",
            "  - readline==8.2=h5eee18b_0\n",
            "  - json5==0.9.6=pyhd3eb1b0_0\n",
            "  - jupyterlab_pygments==0.1.2=py_0\n",
            "  - libtiff==4.5.0=h6a678d5_1\n",
            "  - sqlite==3.40.1=h5082296_0\n",
            "  - cpuonly==2.0=0\n",
            "  - ply==3.11=py38_0\n",
            "  - docutils==0.16=pypi_0\n",
            "  - pyrsistent==0.18.0=py38heee7806_0\n",
            "  - decorator==5.1.1=pyhd3eb1b0_0\n",
            "  - charset-normalizer==2.0.4=pyhd3eb1b0_0\n",
            "  - tornado==6.2=py38h5eee18b_0\n",
            "  - gnutls==3.6.15=he1e5248_0\n",
            "  - qt-webengine==5.15.9=hd2b0992_4\n",
            "  - tk==8.6.12=h1ccaba5_0\n",
            "  - requests==2.28.1=py38h06a4308_0\n",
            "  - jedi==0.18.1=py38h06a4308_1\n",
            "  - ipython_genutils==0.2.0=pyhd3eb1b0_1\n",
            "  - defusedxml==0.7.1=pyhd3eb1b0_0\n",
            "  - entrypoints==0.4=py38h06a4308_0\n",
            "  - colorama==0.4.4=pypi_0\n",
            "  - pytz==2022.7=py38h06a4308_0\n",
            "  - libpng==1.6.37=hbc83047_0\n",
            "  - python-fastjsonschema==2.16.2=py38h06a4308_0\n",
            "  - sip==6.6.2=py38h6a678d5_0\n",
            "  - libiconv==1.16=h7f8727e_2\n",
            "  - tinycss2==1.2.1=py38h06a4308_0\n",
            "  - pyparsing==3.0.9=py38h06a4308_0\n",
            "  - libstdcxx-ng==11.2.0=h1234567_1\n",
            "  - rsa==4.7.2=pypi_0\n",
            "  - libpq==12.9=h16c4e8d_3\n",
            "  - flit-core==3.6.0=pyhd3eb1b0_0\n",
            "  - pysocks==1.7.1=py38h06a4308_0\n",
            "  - ipykernel==6.19.2=py38hb070fc8_0\n",
            "  - comm==0.1.2=py38h06a4308_0\n",
            "  - packaging==22.0=py38h06a4308_0\n",
            "  - icu==58.2=he6710b0_3\n",
            "  - jsonschema==4.16.0=py38h06a4308_0\n",
            "  - expat==2.4.9=h6a678d5_0\n",
            "  - ffmpeg==4.3=hf484d3e_0\n",
            "  - freetype==2.12.1=h4a9f257_0\n",
            "  - pygments==2.11.2=pyhd3eb1b0_0\n",
            "  - executing==0.8.3=pyhd3eb1b0_0\n",
            "  - pyqt5-sip==12.11.0=py38h6a678d5_1\n",
            "  - setuptools==65.6.3=py38h06a4308_0\n",
            "  - qtconsole==5.4.0=py38h06a4308_0\n",
            "  - nss==3.74=h0370c37_0\n",
            "  - lerc==3.0=h295c915_0\n",
            "  - terminado==0.17.1=py38h06a4308_0\n",
            "  - nbconvert==6.5.4=py38h06a4308_0\n",
            "  - mkl-service==2.4.0=py38h7f8727e_0\n",
            "  - libwebp-base==1.2.4=h5eee18b_0\n",
            "  - libtasn1==4.19.0=h5eee18b_0\n",
            "  - argon2-cffi-bindings==21.2.0=py38h7f8727e_0\n",
            "  - bottleneck==1.3.5=py38h7deecbd_0\n",
            "  - websocket-client==0.58.0=py38h06a4308_4\n",
            "  - libgcc-ng==11.2.0=h1234567_1\n",
            "  - libidn2==2.3.2=h7f8727e_0\n",
            "  - babel==2.11.0=py38h06a4308_0\n",
            "  - dbus==1.13.18=hb2f20db_0\n",
            "  - matplotlib-inline==0.1.6=py38h06a4308_0\n",
            "  - pillow==9.3.0=py38h6a678d5_2\n",
            "  - widgetsnbextension==3.5.2=py38h06a4308_0\n",
            "  - intel-openmp==2021.4.0=h06a4308_3561\n",
            "  - nbformat==5.7.0=py38h06a4308_0\n",
            "  - zlib==1.2.13=h5eee18b_0\n",
            "  - pycparser==2.21=pyhd3eb1b0_0\n",
            "  - pycosat==0.6.4=py38h5eee18b_0\n",
            "  - sniffio==1.2.0=py38h06a4308_1\n",
            "  - jupyterlab_server==2.16.5=py38h06a4308_0\n",
            "  - wheel==0.37.1=pyhd3eb1b0_0\n",
            "  - traitlets==5.7.1=py38h06a4308_0\n",
            "  - idna==3.4=py38h06a4308_0\n",
            "  - libllvm10==10.0.1=hbcb73fb_5\n",
            "  - kiwisolver==1.4.4=py38h6a678d5_0\n",
            "  - pandocfilters==1.5.0=pyhd3eb1b0_0\n",
            "  - numexpr==2.8.4=py38he184ba9_0\n",
            "  - jsonpatch==1.32=pyhd3eb1b0_0\n",
            "  - backcall==0.2.0=pyhd3eb1b0_0\n",
            "  - conda==23.3.1=py38h06a4308_0\n",
            "  - pyzmq==23.2.0=py38h6a678d5_0\n",
            "  - jmespath==1.0.1=pypi_0\n",
            "  - botocore==1.29.104=pypi_0\n",
            "  - ld_impl_linux-64==2.38=h1181459_1\n",
            "  - libgomp==11.2.0=h1234567_1\n",
            "  - mpc==1.1.0=h10f8cd9_1\n",
            "  - openssl==1.1.1t=h7f8727e_0\n",
            "  - parso==0.8.3=pyhd3eb1b0_0\n",
            "  - ncurses==6.4=h6a678d5_0\n",
            "  - jsonpointer==2.1=pyhd3eb1b0_0\n",
            "  - gstreamer==1.14.0=h28cd5cc_2\n",
            "  - ipython==8.8.0=py38h06a4308_0\n",
            "  - torchaudio==2.0.0=py38_cpu\n",
            "  - libevent==2.1.12=h8f2d780_0\n",
            "  - typing_extensions==4.4.0=py38h06a4308_0\n",
            "  - filelock==3.9.0=py38h06a4308_0\n",
            "  - zstd==1.5.2=ha4553b6_0\n",
            "  - brotli-bin==1.0.9=h5eee18b_7\n",
            "  - contourpy==1.0.5=py38hdb19cb5_0\n",
            "  - jupyterlab==3.5.3=py38h06a4308_0\n",
            "  - libxcb==1.15=h7f8727e_0\n",
            "  - mistune==0.8.4=py38h7b6447c_1000\n",
            "  - jupyter==1.0.0=py38h06a4308_8\n",
            "  - pyyaml==5.4.1=pypi_0\n",
            "  - beautifulsoup4==4.11.1=py38h06a4308_0\n",
            "  - s3transfer==0.6.0=pypi_0\n",
            "  - stack_data==0.2.0=pyhd3eb1b0_0\n",
            "  - prompt_toolkit==3.0.36=hd3eb1b0_0\n",
            "  - lame==3.100=h7b6447c_0\n",
            "  - typing-extensions==4.4.0=py38h06a4308_0\n",
            "  - pluggy==1.0.0=py38h06a4308_1\n",
            "  - mkl_fft==1.3.1=py38hd3c417c_0\n",
            "  - ptyprocess==0.7.0=pyhd3eb1b0_2\n",
            "  - fonttools==4.25.0=pyhd3eb1b0_0\n",
            "  - brotlipy==0.7.0=py38h27cfd23_1003\n",
            "  - ca-certificates==2023.01.10=h06a4308_0\n",
            "  - jupyter_client==7.4.8=py38h06a4308_0\n",
            "  - nest-asyncio==1.5.6=py38h06a4308_0\n",
            "  - _openmp_mutex==5.1=1_gnu\n",
            "  - libdeflate==1.8=h7f8727e_5\n",
            "  - platformdirs==2.5.2=py38h06a4308_0\n",
            "  - lz4-c==1.9.4=h6a678d5_0\n",
            "  - pyopenssl==22.0.0=pyhd3eb1b0_0\n",
            "  - qtwebkit==5.212=h4eab89a_4\n",
            "  - nspr==4.33=h295c915_0\n",
            "  - sympy==1.11.1=py38h06a4308_0\n",
            "  - xz==5.2.10=h5eee18b_1\n",
            "  - gmp==6.2.1=h295c915_3\n",
            "  - pyasn1==0.4.8=pypi_0\n",
            "  - toml==0.10.2=pyhd3eb1b0_0\n",
            "  - brotli==1.0.9=h5eee18b_7\n",
            "  - cycler==0.11.0=pyhd3eb1b0_0\n",
            "  - nbclassic==0.4.8=py38h06a4308_0\n",
            "  - numpy-base==1.23.5=py38h31eccc5_0\n",
            "  - zeromq==4.3.4=h2531618_0\n",
            "  - bzip2==1.0.8=h7b6447c_0\n",
            "  - zstandard==0.18.0=py38h5eee18b_0\n",
            "  - giflib==5.2.1=h5eee18b_1\n",
            "  - cryptography==38.0.4=py38h9ce1e76_0\n",
            "  - jinja2==3.1.2=py38h06a4308_0\n",
            "  - ruamel.yaml==0.17.21=py38h5eee18b_0\n",
            "  - jpeg==9e=h7f8727e_0\n",
            "  - torchvision==0.15.0=py38_cpu\n",
            "  - qtpy==2.2.0=py38h06a4308_0\n",
            "  - libedit==3.1.20221030=h5eee18b_0\n",
            "  - asttokens==2.0.5=pyhd3eb1b0_0\n",
            "  - libbrotlicommon==1.0.9=h5eee18b_7\n",
            "  - libbrotlidec==1.0.9=h5eee18b_7\n",
            "  - openh264==2.1.1=h4ff587b_0\n",
            "  - libxml2==2.9.14=h74e7548_0\n",
            "  - webencodings==0.5.1=py38_1\n",
            "  - send2trash==1.8.0=pyhd3eb1b0_1\n",
            "  - libunistring==0.9.10=h27cfd23_0\n",
            "  - awscli==1.27.104=pypi_0\n",
            "  - nettle==3.7.3=hbbd107a_1\n",
            "  - lxml==4.9.1=py38h1edc446_0\n",
            "  - gmpy2==2.1.2=py38heeb90bb_0\n",
            "  - boltons==23.0.0=py38h06a4308_0\n",
            "  - libwebp==1.2.4=h11a3e52_0\n",
            "  - urllib3==1.26.14=py38h06a4308_0\n",
            "  - attrs==22.1.0=py38h06a4308_0\n",
            "  - pickleshare==0.7.5=pyhd3eb1b0_1003\n",
            "  - argon2-cffi==21.3.0=pyhd3eb1b0_0\n",
            "  - conda-package-streaming==0.7.0=py38h06a4308_0\n",
            "  - psutil==5.9.0=py38h5eee18b_0\n",
            "  - zipp==3.11.0=py38h06a4308_0\n",
            "  - pkgutil-resolve-name==1.3.10=py38h06a4308_0\n",
            "  - libuuid==1.41.5=h5eee18b_0\n",
            "  - python-dateutil==2.8.2=pyhd3eb1b0_0\n",
            "  - wcwidth==0.2.5=pyhd3eb1b0_0\n",
            "  - jupyterlab_widgets==1.0.0=pyhd3eb1b0_1\n",
            "  - pyqt==5.15.7=py38h6a678d5_1\n",
            "  - notebook==6.5.2=py38h06a4308_0\n",
            "  - pure_eval==0.2.2=pyhd3eb1b0_0\n",
            "  - ipywidgets==7.6.5=pyhd3eb1b0_1\n",
            "  - matplotlib==3.6.2=py38h06a4308_0\n",
            "  - matplotlib-base==3.6.2=py38h945d387_0\n",
            "  - importlib_resources==5.2.0=pyhd3eb1b0_1\n",
            "  - pandas==1.5.3=py38h417a72b_0\n",
            "  - six==1.16.0=pyhd3eb1b0_1\n",
            "  - conda-package-handling==2.0.2=py38h06a4308_0\n",
            "  - pcre==8.45=h295c915_0\n",
            "  - anyio==3.5.0=py38h06a4308_0\n",
            "  - mpfr==4.0.2=hb69a4c5_1\n",
            "  - libxkbcommon==1.0.1=hfa300c1_0\n",
            "  - libclang==10.0.1=default_hb85057a_2\n",
            "  - libsodium==1.0.18=h7b6447c_0\n",
            "  - python==3.8.16=h7a1cb2a_2\n",
            "  - soupsieve==2.3.2.post1=py38h06a4308_0\n",
            "  - libxslt==1.1.35=h4e12654_0\n",
            "  - qt-main==5.15.2=h327a75a_7\n",
            "  - bleach==4.1.0=pyhd3eb1b0_0\n",
            "  - certifi==2022.12.7=py38h06a4308_0\n",
            "  - debugpy==1.5.1=py38h295c915_0\n",
            "  - krb5==1.19.4=h568e23c_0\n",
            "  - pytorch-mutex==1.0=cpu\n",
            "  - libffi==3.4.2=h6a678d5_6\n",
            "  - nbclient==0.5.13=py38h06a4308_0\n",
            "  - gst-plugins-base==1.14.0=h8213a91_2\n",
            "  - pip==23.1.1=pypi_0\n",
            "  - importlib-metadata==4.11.3=py38h06a4308_0\n",
            "\n",
            "Current channels:\n",
            "\n",
            "  - https://conda.anaconda.org/conda-forge/linux-64\n",
            "  - https://conda.anaconda.org/conda-forge/noarch\n",
            "\n",
            "To search for alternate channels that may provide the conda package you're\n",
            "looking for, navigate to\n",
            "\n",
            "    https://anaconda.org\n",
            "\n",
            "and use the search bar at the top of the page.\n",
            "\n",
            "\n"
          ]
        }
      ]
    },
    {
      "cell_type": "code",
      "source": [
        "!conda env update -n base -f  ./schlager-lyrics-bot/req.txt\n"
      ],
      "metadata": {
        "id": "pcRc9ZHL3sDd",
        "outputId": "47d9d9f0-f42f-45d4-f9c3-05ae6df49f04",
        "colab": {
          "base_uri": "https://localhost:8080/"
        }
      },
      "execution_count": 5,
      "outputs": [
        {
          "output_type": "stream",
          "name": "stdout",
          "text": [
            "Collecting package metadata (repodata.json): - \b\b\\ \b\b| \b\b/ \b\b- \b\b\\ \b\b| \b\b/ \b\b- \b\b\\ \b\b| \b\b/ \b\b- \b\b\\ \b\b| \b\b/ \b\b- \b\b\\ \b\b| \b\b/ \b\b- \b\b\\ \b\b| \b\b/ \b\b- \b\b\\ \b\b| \b\b/ \b\b- \b\b\\ \b\b| \b\b/ \b\b- \b\b\\ \b\b| \b\b/ \b\b- \b\b\\ \b\b| \b\b/ \b\b- \b\b\\ \b\b| \b\b/ \b\b- \b\b\\ \b\b| \b\b/ \b\b- \b\b\\ \b\b| \b\b/ \b\b- \b\b\\ \b\b| \b\b/ \b\b- \b\b\\ \b\b| \b\b/ \b\b- \b\b\\ \b\b| \b\b/ \b\b- \b\b\\ \b\b| \b\b/ \b\b- \b\b\\ \b\b| \b\b/ \b\b- \b\b\\ \b\b| \b\b/ \b\b- \b\b\\ \b\b| \b\b/ \b\b- \b\b\\ \b\b| \b\b/ \b\b- \b\b\\ \b\b| \b\b/ \b\b- \b\b\\ \b\b| \b\b/ \b\b- \b\b\\ \b\b| \b\b/ \b\b- \b\b\\ \b\b| \b\b/ \b\b- \b\b\\ \b\b| \b\b/ \b\b- \b\b\\ \b\b| \b\b/ \b\b- \b\b\\ \b\b| \b\b/ \b\b- \b\b\\ \b\b| \b\b/ \b\b- \b\b\\ \b\b| \b\b/ \b\b- \b\b\\ \b\b| \b\b/ \b\b- \b\b\\ \b\b| \b\b/ \b\b- \b\b\\ \b\b| \b\b/ \b\b- \b\b\\ \b\b| \b\b/ \b\b- \b\b\\ \b\b| \b\b/ \b\b- \b\b\\ \b\b| \b\b/ \b\b- \b\b\\ \b\b| \b\b/ \b\b- \b\b\\ \b\b| \b\b/ \b\b- \b\b\\ \b\b| \b\b/ \b\b- \b\b\\ \b\b| \b\b/ \b\b- \b\b\\ \b\b| \b\b/ \b\b- \b\b\\ \b\b| \b\b/ \b\b- \b\b\\ \b\b| \b\b/ \b\b- \b\b\\ \b\b| \b\b/ \b\b- \b\b\\ \b\b| \b\b/ \b\b- \b\b\\ \b\b| \b\b/ \b\b- \b\b\\ \b\b| \b\b/ \b\b- \b\b\\ \b\b| \b\b/ \b\bdone\n",
            "Solving environment: \\ \b\b| \b\bfailed\n",
            "\n",
            "ResolvePackageNotFound: \n",
            "  - importlib-metadata==4.11.3=py38h06a4308_0\n",
            "  - jpeg==9e=h7f8727e_0\n",
            "  - tomli==2.0.1=py38h06a4308_0\n",
            "  - toolz==0.12.0=py38h06a4308_0\n",
            "  - filelock==3.9.0=py38h06a4308_0\n",
            "  - pkgutil-resolve-name==1.3.10=py38h06a4308_0\n",
            "  - zstandard==0.18.0=py38h5eee18b_0\n",
            "  - prometheus_client==0.14.1=py38h06a4308_0\n",
            "  - markupsafe==2.1.1=py38h7f8727e_0\n",
            "  - torchaudio==2.0.0=py38_cpu\n",
            "  - toml==0.10.2=pyhd3eb1b0_0\n",
            "  - libxslt==1.1.35=h4e12654_0\n",
            "  - libdeflate==1.8=h7f8727e_5\n",
            "  - nbformat==5.7.0=py38h06a4308_0\n",
            "  - notebook-shim==0.2.2=py38h06a4308_0\n",
            "  - pillow==9.3.0=py38h6a678d5_2\n",
            "  - python-dateutil==2.8.2=pyhd3eb1b0_0\n",
            "  - pyasn1==0.4.8=pypi_0\n",
            "  - websocket-client==0.58.0=py38h06a4308_4\n",
            "  - jupyterlab_server==2.16.5=py38h06a4308_0\n",
            "  - contourpy==1.0.5=py38hdb19cb5_0\n",
            "  - mkl-service==2.4.0=py38h7f8727e_0\n",
            "  - lerc==3.0=h295c915_0\n",
            "  - webencodings==0.5.1=py38_1\n",
            "  - brotlipy==0.7.0=py38h27cfd23_1003\n",
            "  - tqdm==4.64.1=py38h06a4308_0\n",
            "  - colorama==0.4.4=pypi_0\n",
            "  - prompt_toolkit==3.0.36=hd3eb1b0_0\n",
            "  - libidn2==2.3.2=h7f8727e_0\n",
            "  - pyqt5-sip==12.11.0=py38h6a678d5_1\n",
            "  - jupyterlab_pygments==0.1.2=py_0\n",
            "  - nss==3.74=h0370c37_0\n",
            "  - jedi==0.18.1=py38h06a4308_1\n",
            "  - intel-openmp==2021.4.0=h06a4308_3561\n",
            "  - backcall==0.2.0=pyhd3eb1b0_0\n",
            "  - lz4-c==1.9.4=h6a678d5_0\n",
            "  - brotli-bin==1.0.9=h5eee18b_7\n",
            "  - ld_impl_linux-64==2.38=h1181459_1\n",
            "  - botocore==1.29.104=pypi_0\n",
            "  - jupyter_core==5.1.1=py38h06a4308_0\n",
            "  - nettle==3.7.3=hbbd107a_1\n",
            "  - gmpy2==2.1.2=py38heeb90bb_0\n",
            "  - pip==23.1.1=pypi_0\n",
            "  - pluggy==1.0.0=py38h06a4308_1\n",
            "  - pyopenssl==22.0.0=pyhd3eb1b0_0\n",
            "  - urllib3==1.26.14=py38h06a4308_0\n",
            "  - libbrotlicommon==1.0.9=h5eee18b_7\n",
            "  - ipywidgets==7.6.5=pyhd3eb1b0_1\n",
            "  - openh264==2.1.1=h4ff587b_0\n",
            "  - wheel==0.37.1=pyhd3eb1b0_0\n",
            "  - conda==23.3.1=py38h06a4308_0\n",
            "  - sniffio==1.2.0=py38h06a4308_1\n",
            "  - argon2-cffi==21.3.0=pyhd3eb1b0_0\n",
            "  - jsonschema==4.16.0=py38h06a4308_0\n",
            "  - idna==3.4=py38h06a4308_0\n",
            "  - pexpect==4.8.0=pyhd3eb1b0_3\n",
            "  - ply==3.11=py38_0\n",
            "  - libllvm10==10.0.1=hbcb73fb_5\n",
            "  - cycler==0.11.0=pyhd3eb1b0_0\n",
            "  - pandocfilters==1.5.0=pyhd3eb1b0_0\n",
            "  - ruamel.yaml.clib==0.2.6=py38h5eee18b_1\n",
            "  - cpuonly==2.0=0\n",
            "  - conda-package-streaming==0.7.0=py38h06a4308_0\n",
            "  - defusedxml==0.7.1=pyhd3eb1b0_0\n",
            "  - mkl==2021.4.0=h06a4308_640\n",
            "  - jupyter_server==1.23.4=py38h06a4308_0\n",
            "  - pycparser==2.21=pyhd3eb1b0_0\n",
            "  - lcms2==2.12=h3be6417_0\n",
            "  - executing==0.8.3=pyhd3eb1b0_0\n",
            "  - numpy==1.23.5=py38h14f4228_0\n",
            "  - pytz==2022.7=py38h06a4308_0\n",
            "  - sympy==1.11.1=py38h06a4308_0\n",
            "  - expat==2.4.9=h6a678d5_0\n",
            "  - fonttools==4.25.0=pyhd3eb1b0_0\n",
            "  - mpc==1.1.0=h10f8cd9_1\n",
            "  - conda-package-handling==2.0.2=py38h06a4308_0\n",
            "  - pandas==1.5.3=py38h417a72b_0\n",
            "  - ipython==8.8.0=py38h06a4308_0\n",
            "  - gst-plugins-base==1.14.0=h8213a91_2\n",
            "  - prompt-toolkit==3.0.36=py38h06a4308_0\n",
            "  - bleach==4.1.0=pyhd3eb1b0_0\n",
            "  - flit-core==3.6.0=pyhd3eb1b0_0\n",
            "  - cffi==1.15.1=py38h5eee18b_3\n",
            "  - jupyter_client==7.4.8=py38h06a4308_0\n",
            "  - brotli==1.0.9=h5eee18b_7\n",
            "  - nbclient==0.5.13=py38h06a4308_0\n",
            "  - matplotlib-inline==0.1.6=py38h06a4308_0\n",
            "  - munkres==1.1.4=py_0\n",
            "  - nbconvert==6.5.4=py38h06a4308_0\n",
            "  - nest-asyncio==1.5.6=py38h06a4308_0\n",
            "  - qtpy==2.2.0=py38h06a4308_0\n",
            "  - charset-normalizer==2.0.4=pyhd3eb1b0_0\n",
            "  - mpfr==4.0.2=hb69a4c5_1\n",
            "  - rsa==4.7.2=pypi_0\n",
            "  - seaborn==0.12.2=py38h06a4308_0\n",
            "  - qt-main==5.15.2=h327a75a_7\n",
            "  - libpq==12.9=h16c4e8d_3\n",
            "  - typing_extensions==4.4.0=py38h06a4308_0\n",
            "  - jupyter_console==6.4.4=py38h06a4308_0\n",
            "  - libtasn1==4.19.0=h5eee18b_0\n",
            "  - sqlite==3.40.1=h5082296_0\n",
            "  - libunistring==0.9.10=h27cfd23_0\n",
            "  - ruamel.yaml==0.17.21=py38h5eee18b_0\n",
            "  - traitlets==5.7.1=py38h06a4308_0\n",
            "  - pcre==8.45=h295c915_0\n",
            "  - python-fastjsonschema==2.16.2=py38h06a4308_0\n",
            "  - krb5==1.19.4=h568e23c_0\n",
            "  - fontconfig==2.14.1=h52c9d5c_1\n",
            "  - libwebp==1.2.4=h11a3e52_0\n",
            "  - bzip2==1.0.8=h7b6447c_0\n",
            "  - gstreamer==1.14.0=h28cd5cc_2\n",
            "  - six==1.16.0=pyhd3eb1b0_1\n",
            "  - parso==0.8.3=pyhd3eb1b0_0\n",
            "  - tk==8.6.12=h1ccaba5_0\n",
            "  - mkl_random==1.2.2=py38h51133e4_0\n",
            "  - libtiff==4.5.0=h6a678d5_1\n",
            "  - anyio==3.5.0=py38h06a4308_0\n",
            "  - decorator==5.1.1=pyhd3eb1b0_0\n",
            "  - kiwisolver==1.4.4=py38h6a678d5_0\n",
            "  - pure_eval==0.2.2=pyhd3eb1b0_0\n",
            "  - beautifulsoup4==4.11.1=py38h06a4308_0\n",
            "  - typing-extensions==4.4.0=py38h06a4308_0\n",
            "  - giflib==5.2.1=h5eee18b_1\n",
            "  - asttokens==2.0.5=pyhd3eb1b0_0\n",
            "  - ipython_genutils==0.2.0=pyhd3eb1b0_1\n",
            "  - qtwebkit==5.212=h4eab89a_4\n",
            "  - requests==2.28.1=py38h06a4308_0\n",
            "  - pygments==2.11.2=pyhd3eb1b0_0\n",
            "  - zlib==1.2.13=h5eee18b_0\n",
            "  - comm==0.1.2=py38h06a4308_0\n",
            "  - jsonpatch==1.32=pyhd3eb1b0_0\n",
            "  - pyzmq==23.2.0=py38h6a678d5_0\n",
            "  - argon2-cffi-bindings==21.2.0=py38h7f8727e_0\n",
            "  - gmp==6.2.1=h295c915_3\n",
            "  - ncurses==6.4=h6a678d5_0\n",
            "  - openssl==1.1.1t=h7f8727e_0\n",
            "  - ipykernel==6.19.2=py38hb070fc8_0\n",
            "  - jmespath==1.0.1=pypi_0\n",
            "  - soupsieve==2.3.2.post1=py38h06a4308_0\n",
            "  - ffmpeg==4.3=hf484d3e_0\n",
            "  - qt-webengine==5.15.9=hd2b0992_4\n",
            "  - matplotlib==3.6.2=py38h06a4308_0\n",
            "  - jupyterlab_widgets==1.0.0=pyhd3eb1b0_1\n",
            "  - pyparsing==3.0.9=py38h06a4308_0\n",
            "  - libxml2==2.9.14=h74e7548_0\n",
            "  - jupyter==1.0.0=py38h06a4308_8\n",
            "  - send2trash==1.8.0=pyhd3eb1b0_1\n",
            "  - cryptography==38.0.4=py38h9ce1e76_0\n",
            "  - libclang==10.0.1=default_hb85057a_2\n",
            "  - libbrotlidec==1.0.9=h5eee18b_7\n",
            "  - python==3.8.16=h7a1cb2a_2\n",
            "  - nspr==4.33=h295c915_0\n",
            "  - icu==58.2=he6710b0_3\n",
            "  - matplotlib-base==3.6.2=py38h945d387_0\n",
            "  - wcwidth==0.2.5=pyhd3eb1b0_0\n",
            "  - libiconv==1.16=h7f8727e_2\n",
            "  - pycosat==0.6.4=py38h5eee18b_0\n",
            "  - qtconsole==5.4.0=py38h06a4308_0\n",
            "  - certifi==2022.12.7=py38h06a4308_0\n",
            "  - babel==2.11.0=py38h06a4308_0\n",
            "  - mistune==0.8.4=py38h7b6447c_1000\n",
            "  - numexpr==2.8.4=py38he184ba9_0\n",
            "  - entrypoints==0.4=py38h06a4308_0\n",
            "  - jupyterlab==3.5.3=py38h06a4308_0\n",
            "  - packaging==22.0=py38h06a4308_0\n",
            "  - pytorch-mutex==1.0=cpu\n",
            "  - glib==2.69.1=he621ea3_2\n",
            "  - libxcb==1.15=h7f8727e_0\n",
            "  - pysocks==1.7.1=py38h06a4308_0\n",
            "  - psutil==5.9.0=py38h5eee18b_0\n",
            "  - nbclassic==0.4.8=py38h06a4308_0\n",
            "  - boltons==23.0.0=py38h06a4308_0\n",
            "  - libsodium==1.0.18=h7b6447c_0\n",
            "  - awscli==1.27.104=pypi_0\n",
            "  - platformdirs==2.5.2=py38h06a4308_0\n",
            "  - tinycss2==1.2.1=py38h06a4308_0\n",
            "  - dbus==1.13.18=hb2f20db_0\n",
            "  - ptyprocess==0.7.0=pyhd3eb1b0_2\n",
            "  - _openmp_mutex==5.1=1_gnu\n",
            "  - pyqt==5.15.7=py38h6a678d5_1\n",
            "  - mkl_fft==1.3.1=py38hd3c417c_0\n",
            "  - networkx==2.8.4=py38h06a4308_1\n",
            "  - libuuid==1.41.5=h5eee18b_0\n",
            "  - libwebp-base==1.2.4=h5eee18b_0\n",
            "  - pyyaml==5.4.1=pypi_0\n",
            "  - libpng==1.6.37=hbc83047_0\n",
            "  - xz==5.2.10=h5eee18b_1\n",
            "  - gnutls==3.6.15=he1e5248_0\n",
            "  - zipp==3.11.0=py38h06a4308_0\n",
            "  - debugpy==1.5.1=py38h295c915_0\n",
            "  - libedit==3.1.20221030=h5eee18b_0\n",
            "  - importlib_resources==5.2.0=pyhd3eb1b0_1\n",
            "  - terminado==0.17.1=py38h06a4308_0\n",
            "  - widgetsnbextension==3.5.2=py38h06a4308_0\n",
            "  - libgcc-ng==11.2.0=h1234567_1\n",
            "  - numpy-base==1.23.5=py38h31eccc5_0\n",
            "  - attrs==22.1.0=py38h06a4308_0\n",
            "  - libevent==2.1.12=h8f2d780_0\n",
            "  - bottleneck==1.3.5=py38h7deecbd_0\n",
            "  - s3transfer==0.6.0=pypi_0\n",
            "  - docutils==0.16=pypi_0\n",
            "  - zstd==1.5.2=ha4553b6_0\n",
            "  - lxml==4.9.1=py38h1edc446_0\n",
            "  - sip==6.6.2=py38h6a678d5_0\n",
            "  - stack_data==0.2.0=pyhd3eb1b0_0\n",
            "  - zeromq==4.3.4=h2531618_0\n",
            "  - freetype==2.12.1=h4a9f257_0\n",
            "  - pyrsistent==0.18.0=py38heee7806_0\n",
            "  - readline==8.2=h5eee18b_0\n",
            "  - torchvision==0.15.0=py38_cpu\n",
            "  - libxkbcommon==1.0.1=hfa300c1_0\n",
            "  - notebook==6.5.2=py38h06a4308_0\n",
            "  - jinja2==3.1.2=py38h06a4308_0\n",
            "  - mpmath==1.2.1=py38h06a4308_0\n",
            "  - libffi==3.4.2=h6a678d5_6\n",
            "  - ca-certificates==2023.01.10=h06a4308_0\n",
            "  - json5==0.9.6=pyhd3eb1b0_0\n",
            "  - pickleshare==0.7.5=pyhd3eb1b0_1003\n",
            "  - jsonpointer==2.1=pyhd3eb1b0_0\n",
            "  - libstdcxx-ng==11.2.0=h1234567_1\n",
            "  - tornado==6.2=py38h5eee18b_0\n",
            "  - libbrotlienc==1.0.9=h5eee18b_7\n",
            "  - setuptools==65.6.3=py38h06a4308_0\n",
            "  - lame==3.100=h7b6447c_0\n",
            "  - libgomp==11.2.0=h1234567_1\n",
            "\n"
          ]
        }
      ]
    },
    {
      "cell_type": "code",
      "source": [
        "!git push origin"
      ],
      "metadata": {
        "id": "LP4Ts4vw5Zjr",
        "outputId": "3f25d68c-2342-4911-8112-450f971827a6",
        "colab": {
          "base_uri": "https://localhost:8080/"
        }
      },
      "execution_count": 6,
      "outputs": [
        {
          "output_type": "stream",
          "name": "stdout",
          "text": [
            "fatal: not a git repository (or any of the parent directories): .git\n"
          ]
        }
      ]
    },
    {
      "cell_type": "markdown",
      "source": [
        "# Training the Schlager Bot Language Model\n",
        "\n",
        "To train the model that will ultimately generate Schlager lyrics, we first train a BERT model from scratch on our text dataset composed of Schlager lyrics and some generic German text from an open source NLP training dataset. The latter serves to provide grammatical structure and vocabulary that the lyrics alone lack.\n",
        "\n",
        "Pre-training on transformers can be done with self-supervised tasks. In this case we will use Masked Language Modeling (MLM), where a certain percentage of the tokens in a sentence is masked and the model is trained to predict those masked words. One of the advantages of this method is that it can see the position information of the whole sentence - both for the masked and visible part.\n",
        "\n",
        "First we need to import the relevant dependencies."
      ],
      "metadata": {
        "id": "JjyznsSwdyfQ"
      }
    },
    {
      "cell_type": "code",
      "source": [
        "import transformers\n",
        "import json\n",
        "from tokenizers import ByteLevelBPETokenizer\n",
        "from tokenizers.processors import BertProcessing\n",
        "import datasets\n",
        "import os\n",
        "from tokenizers import BertWordPieceTokenizer\n",
        "from transformers import BertTokenizerFast\n",
        "from itertools import chain"
      ],
      "metadata": {
        "id": "LhdTnkt_d0KV"
      },
      "execution_count": null,
      "outputs": []
    },
    {
      "cell_type": "markdown",
      "source": [
        "Before we can start putting our model together, we need to preprocess the training data and split it into training and test sub-sets. Separating these out first avoids the model seeing the test data during training and risking overfitting."
      ],
      "metadata": {
        "id": "2j4UY_80d24o"
      }
    },
    {
      "cell_type": "code",
      "source": [
        "#Loading the lyrics data as the dataset\n",
        "\n",
        "#Iterating through the files in the directory and adding the names to the files variable\n",
        "\n",
        "files = []\n",
        "\n",
        "directory = \"./lyrics\"\n",
        "\n",
        "for filename in os.scandir(directory):\n",
        "    if filename.is_file():\n",
        "        files.append(filename.path)\n",
        "\n",
        "dataset = datasets.load_dataset(\"text\", data_files= files, split= \"train\")"
      ],
      "metadata": {
        "id": "U9hIFSvtd81q"
      },
      "execution_count": null,
      "outputs": []
    },
    {
      "cell_type": "code",
      "source": [
        "#Now we split the dataset into training (90%) and testing (10%)\n",
        "\n",
        "d = dataset.train_test_split(test_size= 0.1)\n",
        "d[\"train\"], d[\"test\"]"
      ],
      "metadata": {
        "id": "SCGs-YEFd_zD"
      },
      "execution_count": null,
      "outputs": []
    },
    {
      "cell_type": "markdown",
      "source": [
        "Now that the dataset is loaded and split into training and test data, it is time to train the tokenizer. To achieve this, we need to write our dataset into text files - keeping training and test data separate."
      ],
      "metadata": {
        "id": "_WZQsy21eBv8"
      }
    },
    {
      "cell_type": "code",
      "source": [
        "def dataset_to_text(dataset, output_filename=\"data.txt\"):\n",
        "  \"\"\"Utility function to save dataset text to disk,\n",
        "  useful for using the texts to train the tokenizer\n",
        "  (as the tokenizer accepts files)\"\"\"\n",
        "  with open(output_filename, \"w\") as f:\n",
        "    for t in dataset[\"text\"]:\n",
        "      print(t, file=f)\n",
        "\n",
        "# save the training set to train.txt\n",
        "dataset_to_text(d[\"train\"], \"./model/model_data/train.txt\")\n",
        "# save the testing set to test.txt\n",
        "dataset_to_text(d[\"test\"], \"./model/model_data/test.txt\")"
      ],
      "metadata": {
        "id": "SWdYcn7WeE_T"
      },
      "execution_count": null,
      "outputs": []
    },
    {
      "cell_type": "markdown",
      "source": [
        "Next we define some parameters of the tokenizer. The training file indicates the data we're passing to the tokenizer for training. This could be a list of files too. vocab_size is the vocabulary size of tokens, while max_length is the maximum sequence length.\n",
        "\n",
        "truncate_longer_samples is a boolean indicating whether we truncate sentences longer than the length of max_length, if it's set to False, we won't truncate the sentences, we group them together and split them by max_length, so all the resulting sentences will have the length of max_length."
      ],
      "metadata": {
        "id": "HCND6DqGeJR3"
      }
    },
    {
      "cell_type": "code",
      "source": [
        "special_tokens = [\n",
        "  \"[PAD]\", \"[UNK]\", \"[CLS]\", \"[SEP]\", \"[MASK]\", \"<S>\", \"<T>\"\n",
        "]\n",
        "\n",
        "training_file = [\"./model/model_data/train.txt\"]\n",
        "# 30,522 vocab is BERT's default vocab size\n",
        "vocab_size = 30_522\n",
        "# maximum sequence length, lowering will result to faster training (when increasing batch size)\n",
        "max_length = 512\n",
        "# whether to truncate\n",
        "truncate_longer_samples = False"
      ],
      "metadata": {
        "id": "1uqic0QVeKWG"
      },
      "execution_count": null,
      "outputs": []
    },
    {
      "cell_type": "markdown",
      "source": [
        "We are now ready to train the tokenizer. BERT's default tokenizer is WordPiece and, therefore, we initialize the BertWordPieceTokenizer() tokenizer class from the tokenizers library and use the train() method to train it. It will take several minutes to finish. We then need to save the tokenizer to a directory."
      ],
      "metadata": {
        "id": "wzoV0_eieMQM"
      }
    },
    {
      "cell_type": "code",
      "source": [
        "#Initialize the WordPiece tokenizer\n",
        "tokenizer = BertWordPieceTokenizer()\n",
        "\n",
        "#Train the tokenizer\n",
        "tokenizer.train(files=training_file, vocab_size=vocab_size, special_tokens=special_tokens)\n",
        "\n",
        "#Enable truncation up to the maximum 512 tokens\n",
        "# tokenizer.enable_truncation(max_length=max_length)\n",
        "\n",
        "model_path = \"./model/tokenizer/\"\n",
        "\n",
        "#Save the tokenizer to directory\n",
        "tokenizer.save_model(model_path)\n",
        "\n",
        "#Dumping some of the tokenizer config to config file,\n",
        "#including special tokens, whether to lower case and the maximum sequence length\n",
        "with open(os.path.join(model_path, \"config.json\"), \"w\") as f:\n",
        "  tokenizer_cfg = {\n",
        "      \"do_lower_case\": True,\n",
        "      \"unk_token\": \"[UNK]\",\n",
        "      \"sep_token\": \"[SEP]\",\n",
        "      \"pad_token\": \"[PAD]\",\n",
        "      \"cls_token\": \"[CLS]\",\n",
        "      \"mask_token\": \"[MASK]\",\n",
        "      \"model_max_length\": max_length,\n",
        "      \"max_len\": max_length,\n",
        "  }\n",
        "  json.dump(tokenizer_cfg, f)"
      ],
      "metadata": {
        "id": "6QDv9NTxePc1"
      },
      "execution_count": null,
      "outputs": []
    },
    {
      "cell_type": "markdown",
      "source": [
        "The tokenizer.save_model() method saves the vocabulary file into that path, we also manually save some tokenizer configurations, such as special tokens:\n",
        "\n",
        "- unk_token: A special token that represents an out-of-vocabulary token, even though the tokenizer is a WordPiece tokenizer, the unk tokens are not\n",
        "- impossible, but rare.\n",
        "- sep_token: A special token that separates two different sentences in the same input.\n",
        "- pad_token: A special token that is used to fill sentences that do not reach the maximum sequence length (since the arrays of tokens must be the same size).\n",
        "- cls_token: A special token representing the class of the input.\n",
        "- mask_token: This is the mask token we use for the Masked Language Modeling (MLM) pretraining task."
      ],
      "metadata": {
        "id": "og9OwJETeR_u"
      }
    },
    {
      "cell_type": "code",
      "source": [
        "#Let's load the tokenizer\n",
        "model_path = \"./model/tokenizer/\"\n",
        "tokenizer = transformers.BertTokenizerFast.from_pretrained(model_path)"
      ],
      "metadata": {
        "id": "pibboiGMeVbf"
      },
      "execution_count": null,
      "outputs": []
    },
    {
      "cell_type": "markdown",
      "source": [
        "With the tokenizer ready to be taken into operation, we can now tokenize our dataset."
      ],
      "metadata": {
        "id": "TtAhozdveX1O"
      }
    },
    {
      "cell_type": "code",
      "source": [
        "#Load train and test data\n",
        "train_data = datasets.load_dataset(\"text\", data_files= \"./model/model_data/train.txt\", split= \"train\")\n",
        "test_data = datasets.load_dataset(\"text\", data_files= \"./model/model_data/test.txt\", split= \"train\")\n",
        "#Tokenizing the training dataset\n",
        "train_dataset = train_data.map((lambda x: tokenizer(x[\"text\"], return_special_tokens_mask=True)), batched= True)\n",
        "\n",
        "#Tokenizing the test dataset\n",
        "test_dataset = test_data.map((lambda x: tokenizer(x[\"text\"], return_special_tokens_mask=True)), batched= True)"
      ],
      "metadata": {
        "id": "jQrKel8PebZK"
      },
      "execution_count": null,
      "outputs": []
    },
    {
      "cell_type": "code",
      "source": [
        "# Remove other columns, and remain them as Python lists\n",
        "\n",
        "test_dataset.set_format(columns=[\"input_ids\", \"attention_mask\", \"special_tokens_mask\"])\n",
        "train_dataset.set_format(columns=[\"input_ids\", \"attention_mask\", \"special_tokens_mask\"])"
      ],
      "metadata": {
        "id": "qvLXEX4Gedc4"
      },
      "execution_count": null,
      "outputs": []
    },
    {
      "cell_type": "code",
      "source": [
        "# Main data processing function that will concatenate all texts from our dataset and generate chunks of\n",
        "# max_seq_length.\n",
        "# grabbed from: https://github.com/huggingface/transformers/blob/main/examples/pytorch/language-modeling/run_mlm.py\n",
        "\n",
        "max_length = 256\n",
        "\n",
        "def group_texts(examples):\n",
        "    # Concatenate all texts.\n",
        "    concatenated_examples = {k: list(chain(*examples[k])) for k in examples.keys()}\n",
        "    total_length = len(concatenated_examples[list(examples.keys())[0]])\n",
        "    # We drop the small remainder, we could add padding if the model supported it instead of this drop, you can\n",
        "    # customize this part to your needs.\n",
        "    if total_length >= max_length:\n",
        "        total_length = (total_length // max_length) * max_length\n",
        "    # Split by chunks of max_len.\n",
        "    result = {\n",
        "        k: [t[i : i + max_length] for i in range(0, total_length, max_length)]\n",
        "        for k, t in concatenated_examples.items()\n",
        "    }\n",
        "    return result\n",
        "\n",
        "train_dataset = train_dataset.map(group_texts, batched=True,\n",
        "                                desc=f\"Grouping texts in chunks of {max_length}\")\n",
        "test_dataset = test_dataset.map(group_texts, batched=True,\n",
        "                                desc=f\"Grouping texts in chunks of {max_length}\")"
      ],
      "metadata": {
        "id": "O4W8ksKXef6Z"
      },
      "execution_count": null,
      "outputs": []
    },
    {
      "cell_type": "code",
      "source": [
        "# convert them from lists to torch tensors\n",
        "train_dataset.set_format(type='torch')"
      ],
      "metadata": {
        "id": "1sxmgRUmeiiq"
      },
      "execution_count": null,
      "outputs": []
    }
  ]
}